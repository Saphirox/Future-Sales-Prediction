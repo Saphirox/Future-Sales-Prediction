{
 "cells": [
  {
   "cell_type": "markdown",
   "metadata": {},
   "source": [
    "# <center> Stacking"
   ]
  },
  {
   "cell_type": "code",
   "execution_count": 1,
   "metadata": {},
   "outputs": [],
   "source": [
    "%store -r X_train\n",
    "%store -r X_test\n",
    "\n",
    "%store -r y_train\n",
    "%store -r y_test\n",
    "\n",
    "%store -r X_train_sub\n",
    "%store -r X_test_sub\n",
    "%store -r y_train_sub\n",
    "%store -r y_test_sub"
   ]
  },
  {
   "cell_type": "code",
   "execution_count": 2,
   "metadata": {},
   "outputs": [],
   "source": [
    "%store -r hp_lgbm\n",
    "%store -r lgbm_cv\n",
    "%store -r xgb_model"
   ]
  },
  {
   "cell_type": "code",
   "execution_count": 3,
   "metadata": {},
   "outputs": [
    {
     "name": "stderr",
     "output_type": "stream",
     "text": [
      "/Users/maksymsuprunenko/anaconda3/lib/python3.7/site-packages/tqdm/_tqdm.py:604: FutureWarning: The Panel class is removed from pandas. Accessing it from the top-level namespace will also be removed in the next version\n",
      "  from pandas import Panel\n"
     ]
    },
    {
     "data": {
      "text/html": [
       "        <script type=\"text/javascript\">\n",
       "        window.PlotlyConfig = {MathJaxConfig: 'local'};\n",
       "        if (window.MathJax) {MathJax.Hub.Config({SVG: {font: \"STIX-Web\"}});}\n",
       "        if (typeof require !== 'undefined') {\n",
       "        require.undef(\"plotly\");\n",
       "        requirejs.config({\n",
       "            paths: {\n",
       "                'plotly': ['https://cdn.plot.ly/plotly-latest.min']\n",
       "            }\n",
       "        });\n",
       "        require(['plotly'], function(Plotly) {\n",
       "            window._Plotly = Plotly;\n",
       "        });\n",
       "        }\n",
       "        </script>\n",
       "        "
      ]
     },
     "metadata": {},
     "output_type": "display_data"
    },
    {
     "name": "stdout",
     "output_type": "stream",
     "text": [
      "Basic Data Analysis tools was loaded\n"
     ]
    }
   ],
   "source": [
    "__da"
   ]
  },
  {
   "cell_type": "code",
   "execution_count": 20,
   "metadata": {},
   "outputs": [],
   "source": [
    "from vecstack import stacking\n",
    "\n",
    "def create_submission(model, submission_name, X_test, send_submission=False, message=\"Stacking\"):\n",
    "    result = model.predict(X_test)\n",
    "    submission = pd.DataFrame({\n",
    "        \"ID\": np.arange(result.shape[0]), \n",
    "        \"item_cnt_month\": result\n",
    "    })\n",
    "    submission.to_csv(submission_name, index=False)\n",
    "   \n",
    "    if send_submission:\n",
    "        !kaggle competitions submit -c competitive-data-science-predict-future-sales -f {submission_name} -m {message}"
   ]
  },
  {
   "cell_type": "code",
   "execution_count": null,
   "metadata": {},
   "outputs": [
    {
     "name": "stdout",
     "output_type": "stream",
     "text": [
      "task:         [regression]\n",
      "metric:       [mean_absolute_error]\n",
      "mode:         [oof_pred_bag]\n",
      "n_models:     [2]\n",
      "\n",
      "model  0:     [LGBMRegressor]\n",
      "    fold  0:  [0.20133565]\n",
      "    fold  1:  [0.16236561]\n",
      "    fold  2:  [0.14488234]\n",
      "    fold  3:  [0.16479533]\n",
      "    ----\n",
      "    MEAN:     [0.16834473] + [0.02053797]\n",
      "    FULL:     [0.16834473]\n",
      "\n",
      "model  1:     [XGBRegressor]\n",
      "    fold  0:  [0.18465339]\n",
      "    fold  1:  [0.16552404]\n",
      "    fold  2:  [0.14120001]\n"
     ]
    }
   ],
   "source": [
    "models = [lgbm_cv, xgb_model]\n",
    "s1_train, s1_test = stacking(models,\n",
    "                           X_train_sub, y_train_sub, X_test_sub,\n",
    "                           regression=True,\n",
    "                           mode='oof_pred_bag',\n",
    "                           random_state=25,\n",
    "                           n_folds = 3,\n",
    "                           verbose=2)\n",
    "\n",
    "xgb_lev2 = xgb.XGBRegressor(learning_rate=0.04, \n",
    "                        n_estimators=5,\n",
    "                        max_depth=3,\n",
    "                        n_jobs=-1,\n",
    "                        random_state=17\n",
    "                       )\n",
    "\n",
    "# Fit the 2nd level model on the output of level 1\n",
    "xgb_lev2.fit(s1_train, y_train_sub)"
   ]
  },
  {
   "cell_type": "code",
   "execution_count": 14,
   "metadata": {},
   "outputs": [],
   "source": [
    "first_level = pd.DataFrame(xgb_model.predict(X_test), columns=['xgb_model'])\n",
    "first_level['lgbm_cv'] = lgbm_cv.predict(X_test)\n",
    "first_level['lgbm_hp'] = hp_lgbm.predict(X_test)"
   ]
  },
  {
   "cell_type": "code",
   "execution_count": 19,
   "metadata": {},
   "outputs": [],
   "source": [
    "first_level_test = pd.DataFrame(xgb_model.predict(X_test_sub), columns=['xgb_model'])\n",
    "first_level_test['lgbm_cv'] = lgbm_cv.predict(X_test_sub)\n",
    "first_level_test['lgbm_hp'] = hp_lgbm.predict(X_test_sub)"
   ]
  },
  {
   "cell_type": "code",
   "execution_count": 16,
   "metadata": {},
   "outputs": [
    {
     "name": "stdout",
     "output_type": "stream",
     "text": [
      "[15:35:46] WARNING: src/objective/regression_obj.cu:152: reg:linear is now deprecated in favor of reg:squarederror.\n"
     ]
    },
    {
     "data": {
      "text/plain": [
       "XGBRegressor(base_score=0.5, booster='gbtree', colsample_bylevel=1,\n",
       "             colsample_bynode=1, colsample_bytree=1, gamma=0,\n",
       "             importance_type='gain', learning_rate=0.04, max_delta_step=0,\n",
       "             max_depth=3, min_child_weight=1, missing=None, n_estimators=2,\n",
       "             n_jobs=-1, nthread=None, objective='reg:linear', random_state=17,\n",
       "             reg_alpha=0, reg_lambda=1, scale_pos_weight=1, seed=None,\n",
       "             silent=None, subsample=1, verbosity=1)"
      ]
     },
     "execution_count": 16,
     "metadata": {},
     "output_type": "execute_result"
    }
   ],
   "source": [
    "import xgboost as xgb\n",
    "\n",
    "xgb_lev2 = xgb.XGBRegressor(learning_rate=0.04, \n",
    "                        n_estimators=2,\n",
    "                        max_depth=3,\n",
    "                        n_jobs=-1,\n",
    "                        random_state=17\n",
    "                       )\n",
    "\n",
    "xgb_lev2.fit(first_level, y_test)"
   ]
  },
  {
   "cell_type": "code",
   "execution_count": 21,
   "metadata": {},
   "outputs": [
    {
     "name": "stdout",
     "output_type": "stream",
     "text": [
      "100%|███████████████████████████████████████| 3.57M/3.57M [00:06<00:00, 575kB/s]\n",
      "Successfully submitted to Predict Future Sales"
     ]
    }
   ],
   "source": [
    "create_submission(xgb_lev2, 'stacking_submission_hp.csv', first_level_test,  send_submission=True)"
   ]
  }
 ],
 "metadata": {
  "kernelspec": {
   "display_name": "Python 3",
   "language": "python",
   "name": "python3"
  },
  "language_info": {
   "codemirror_mode": {
    "name": "ipython",
    "version": 3
   },
   "file_extension": ".py",
   "mimetype": "text/x-python",
   "name": "python",
   "nbconvert_exporter": "python",
   "pygments_lexer": "ipython3",
   "version": "3.7.3"
  }
 },
 "nbformat": 4,
 "nbformat_minor": 2
}
