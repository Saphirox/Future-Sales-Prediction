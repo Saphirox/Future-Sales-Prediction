{
 "cells": [
  {
   "cell_type": "markdown",
   "metadata": {},
   "source": [
    "# <center> Stacking"
   ]
  },
  {
   "cell_type": "code",
   "execution_count": null,
   "metadata": {},
   "outputs": [],
   "source": [
    "%store -r X_train\n",
    "%store -r X_test\n",
    "\n",
    "%store -r y_train\n",
    "%store -r y_test\n",
    "\n",
    "%store -r X_train_sub\n",
    "%store -r X_test_sub\n",
    "%store -r y_train_sub\n",
    "%store -r y_test_sub"
   ]
  },
  {
   "cell_type": "code",
   "execution_count": null,
   "metadata": {},
   "outputs": [],
   "source": [
    "%store -r lgbm_hp\n",
    "%store -r lgbm_cv\n",
    "%store -r xgb_model_cv"
   ]
  },
  {
   "cell_type": "code",
   "execution_count": null,
   "metadata": {},
   "outputs": [],
   "source": [
    "_da"
   ]
  },
  {
   "cell_type": "code",
   "execution_count": null,
   "metadata": {},
   "outputs": [],
   "source": [
    "from vecstack import stacking\n",
    "\n",
    "def create_submission(model, submission_name, send_submission=False, message=\"Stacking\"):\n",
    "    result = model.predict(X_test_sub)\n",
    "    submission = pd.DataFrame({\n",
    "        \"ID\": np.arange(result.shape[0]), \n",
    "        \"item_cnt_month\": result\n",
    "    })\n",
    "    submission.to_csv(submission_name, index=False)\n",
    "   \n",
    "    if send_submission:\n",
    "        !kaggle competitions submit -c competitive-data-science-predict-future-sales -f {submission_name} -m {message}"
   ]
  },
  {
   "cell_type": "code",
   "execution_count": 1,
   "metadata": {},
   "outputs": [],
   "source": [
    "models = [lgbm_hp, lgbm_cv, xgb_model_cv]\n",
    "s1_train, s1_test = stacking(models,\n",
    "                           X_train_sub, y_train_sub, X_test_sub,\n",
    "                           regression=True,\n",
    "                           mode='oof_pred_bag',\n",
    "                           random_state=25,\n",
    "                           verbose=2)\n",
    "\n",
    "xgb_lev2 = xgb.XGBRegressor(learning_rate=0.04, \n",
    "                        n_estimators=100,\n",
    "                        max_depth=3,\n",
    "                        n_jobs=-1,\n",
    "                        random_state=17\n",
    "                       )\n",
    "\n",
    "# Fit the 2nd level model on the output of level 1\n",
    "xgb_lev2.fit(s1_train, y_train)"
   ]
  },
  {
   "cell_type": "code",
   "execution_count": null,
   "metadata": {},
   "outputs": [],
   "source": [
    "create_submission(xgb_lev2, 'stacking_submission_hp.csv', send_submission=False)"
   ]
  }
 ],
 "metadata": {
  "kernelspec": {
   "display_name": "Python 3",
   "language": "python",
   "name": "python3"
  },
  "language_info": {
   "codemirror_mode": {
    "name": "ipython",
    "version": 3
   },
   "file_extension": ".py",
   "mimetype": "text/x-python",
   "name": "python",
   "nbconvert_exporter": "python",
   "pygments_lexer": "ipython3",
   "version": "3.7.3"
  }
 },
 "nbformat": 4,
 "nbformat_minor": 2
}
