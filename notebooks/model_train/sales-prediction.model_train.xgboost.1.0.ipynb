{
 "cells": [
  {
   "cell_type": "markdown",
   "metadata": {
    "pycharm": {
     "name": "#%%\n"
    }
   },
   "source": [
    "## <center> XGBoost model. Tuning and creating submission"
   ]
  },
  {
   "cell_type": "code",
   "execution_count": 1,
   "metadata": {},
   "outputs": [
    {
     "name": "stdout",
     "output_type": "stream",
     "text": [
      "no stored variable y_test\n"
     ]
    }
   ],
   "source": [
    "%store -r X_train\n",
    "%store -r X_test\n",
    "\n",
    "%store -r y_train\n",
    "%store -r y_test\n",
    "\n",
    "%store -r X_train_sub\n",
    "%store -r X_test_sub\n",
    "%store -r y_train_sub\n",
    "%store -r y_test_sub"
   ]
  },
  {
   "cell_type": "markdown",
   "metadata": {},
   "source": [
    "### Import libraries"
   ]
  },
  {
   "cell_type": "code",
   "execution_count": null,
   "metadata": {},
   "outputs": [],
   "source": [
    "send_submission = False"
   ]
  },
  {
   "cell_type": "code",
   "execution_count": null,
   "metadata": {},
   "outputs": [],
   "source": [
    "_da"
   ]
  },
  {
   "cell_type": "code",
   "execution_count": null,
   "metadata": {},
   "outputs": [],
   "source": [
    "import sys\n",
    "import os\n",
    "sys.pa### Import libraries\n",
    "\n",
    "send_submission = False\n",
    "\n",
    "_dath.append(os.path.realpath('./../../scripts'))"
   ]
  },
  {
   "cell_type": "code",
   "execution_count": 4,
   "metadata": {},
   "outputs": [
    {
     "data": {
      "text/html": [
       "        <script type=\"text/javascript\">\n",
       "        window.PlotlyConfig = {MathJaxConfig: 'local'};\n",
       "        if (window.MathJax) {MathJax.Hub.Config({SVG: {font: \"STIX-Web\"}});}\n",
       "        if (typeof require !== 'undefined') {\n",
       "        require.undef(\"plotly\");\n",
       "        requirejs.config({\n",
       "            paths: {\n",
       "                'plotly': ['https://cdn.plot.ly/plotly-latest.min']\n",
       "            }\n",
       "        });\n",
       "        require(['plotly'], function(Plotly) {\n",
       "            window._Plotly = Plotly;\n",
       "        });\n",
       "        }\n",
       "        </script>\n",
       "        "
      ]
     },
     "metadata": {},
     "output_type": "display_data"
    }
   ],
   "source": [
    "import numpy as np\n",
    "import pandas as pd \n",
    "\n",
    "import xgboost as xgb\n",
    "from xgboost import plot_importance\n",
    "\n",
    "import warnings\n",
    "import matplotlib.pyplot as plt\n",
    "%matplotlib inline \n",
    "\n",
    "\n",
    "from IPython.core.debugger import set_trace\n",
    "from time import time\n",
    "\n",
    "# SKLEARN\n",
    "\n",
    "from sklearn.model_selection import RandomizedSearchCV, TimeSeriesSplit, KFold\n",
    "from sklearn.metrics import r2_score\n",
    "\n",
    "# Bayessian Optimization\n",
    "from bayes_opt import BayesianOptimization\n",
    "from hyperopt import hp\n",
    "from hyperopt import fmin, tpe, space_eval\n",
    "from hyperopt import STATUS_OK, Trials, fmin, hp, tpe\n",
    "\n",
    "# vecstack\n",
    "from vecstack import stacking"
   ]
  },
  {
   "cell_type": "code",
   "execution_count": null,
   "metadata": {},
   "outputs": [],
   "source": [
    "def get_xgb(params = {}):\n",
    "    return XGBReggresor(\n",
    "           boosting_type= 'gbdt',\n",
    "           objective = 'reg:squarederror',\n",
    "           metric = \"rmse\",\n",
    "           random_state= 1,\n",
    "           silent = True,\n",
    "           **params)\n",
    "\n",
    "def create_submission(model, submission_name, send_submission=False, message=\"XGBoost\"):\n",
    "    result = model.predict(X_test_sub)\n",
    "    submission = pd.DataFrame({\n",
    "        \"ID\": np.arange(result.shape[0]), \n",
    "        \"item_cnt_month\": result\n",
    "    })\n",
    "    submission.to_csv(submission_name, index=False)\n",
    "   \n",
    "    if send_submission:\n",
    "        !kaggle competitions submit -c competitive-data-science-predict-future-sales -f {submission_name} -m {message}"
   ]
  },
  {
   "cell_type": "code",
   "execution_count": null,
   "metadata": {},
   "outputs": [],
   "source": [
    "%%notify -m \"Grid search XGBoost was ended\"\n",
    "\n",
    "gridParams = {\n",
    "    'learning_rate': np.linspace(0.01, 2, 10),\n",
    "    'max_depth': np.arange(0, 14),\n",
    "    'n_estimators': np.arange(100, 1000, 100),\n",
    "    'num_leaves': np.arange(8, 65, 8),\n",
    "    'colsample_bytree' : [0.65, 0.66],\n",
    "    'subsample' : np.arange(0.5, 1.1, 0.1),\n",
    "    'reg_alpha' : np.arange(0, 100),\n",
    "    'reg_lambda' : np.arange(0, 100)\n",
    "}\n",
    "\n",
    "xgb_model = get_xgb()\n",
    "\n",
    "# Create the grid\n",
    "grid = RandomizedSearchCV(xgb_model, gridParams, verbose=0, cv=TimeSeriesSplit(n_splits=5))\n",
    "\n",
    "grid.fit(X_train, y_train, \n",
    "    eval_metric=\"rmse\", \n",
    "    eval_set=[(X_train, y_train), (X_test, y_test)], \n",
    "    verbose=10, \n",
    "    early_stopping_rounds=20)"
   ]
  },
  {
   "cell_type": "code",
   "execution_count": null,
   "metadata": {},
   "outputs": [],
   "source": [
    "print(\"Score\", grid.best_score_)\n",
    "print('Fitting with params: ')\n",
    "print(grid.best_params_)"
   ]
  },
  {
   "cell_type": "code",
   "execution_count": null,
   "metadata": {},
   "outputs": [],
   "source": [
    "rmse =  np.sqrt(mean_squared_error(y_test, grid.best_estimator.predict(X_test))) \n",
    "print(f\"RMSE {rmse}\")"
   ]
  },
  {
   "cell_type": "markdown",
   "metadata": {},
   "source": [
    "Tuned parameters from RandomizedSearch."
   ]
  },
  {
   "cell_type": "code",
   "execution_count": 53,
   "metadata": {},
   "outputs": [],
   "source": [
    "params = {'subsample': 0.89,\n",
    " 'reg_lambda': 11,\n",
    " 'reg_alpha': 32,\n",
    " 'num_leaves': 40,\n",
    " 'n_estimators': 400,\n",
    " 'max_depth': 7,\n",
    " 'learning_rate': 0.45222222222222225,\n",
    " 'colsample_bytree': 0.66}"
   ]
  },
  {
   "cell_type": "code",
   "execution_count": null,
   "metadata": {},
   "outputs": [],
   "source": [
    "%%notify -m \"XGBoost submission have been fit\"\n",
    "\n",
    "lgbm = get_xgb(params)\n",
    "lgbm.fit(X_train_sub, y_train_sub, \n",
    "    eval_metric=\"rmse\", \n",
    "    eval_set=[(X_train_sub, y_train_sub)], \n",
    "    verbose=0, \n",
    "    early_stopping_rounds=20,\n",
    "    categorical_feature = cat_feats)    "
   ]
  },
  {
   "cell_type": "code",
   "execution_count": 57,
   "metadata": {},
   "outputs": [
    {
     "data": {
      "application/javascript": [
       "$(document).ready(\n",
       "    function() {\n",
       "        function appendUniqueDiv(){\n",
       "            // append a div with our uuid so we can check that it's already\n",
       "            // been sent and avoid duplicates on page reload\n",
       "            var notifiedDiv = document.createElement(\"div\")\n",
       "            notifiedDiv.id = \"0bbe1e50-e59a-49ef-8251-afbfa5236c81\"\n",
       "            element.append(notifiedDiv)\n",
       "        }\n",
       "\n",
       "        // only send notifications if the pageload is complete; this will\n",
       "        // help stop extra notifications when a saved notebook is loaded,\n",
       "        // which during testing gives us state \"interactive\", not \"complete\"\n",
       "        if (document.readyState === 'complete') {\n",
       "            // check for the div that signifies that the notification\n",
       "            // was already sent\n",
       "            if (document.getElementById(\"0bbe1e50-e59a-49ef-8251-afbfa5236c81\") === null) {\n",
       "                var notificationPayload = {\"requireInteraction\": false, \"icon\": \"/static/base/images/favicon.ico\", \"body\": \"Submission was created\"};\n",
       "                if (Notification.permission !== 'denied') {\n",
       "                    if (Notification.permission !== 'granted') { \n",
       "                        Notification.requestPermission(function (permission) {\n",
       "                            if(!('permission' in Notification)) {\n",
       "                                Notification.permission = permission\n",
       "                            }\n",
       "                        })\n",
       "                    }\n",
       "                    if (Notification.permission === 'granted') {\n",
       "                    var notification = new Notification(\"Jupyter Notebook\", notificationPayload)\n",
       "                    appendUniqueDiv()\n",
       "                    notification.onclick = function () {\n",
       "                        window.focus();\n",
       "                        this.close();\n",
       "                        };\n",
       "                    } \n",
       "                }     \n",
       "            }\n",
       "        }\n",
       "    }\n",
       ")\n"
      ],
      "text/plain": [
       "<IPython.core.display.Javascript object>"
      ]
     },
     "metadata": {},
     "output_type": "display_data"
    }
   ],
   "source": [
    "%%notify -m \"Submission was created\"\n",
    "create_submission(lgbm, 'xgb_submission_gs.csv', make_submission)"
   ]
  },
  {
   "cell_type": "code",
   "execution_count": 39,
   "metadata": {},
   "outputs": [
    {
     "data": {
      "image/png": "[encoded data removed]",
      "text/plain": [
       "<Figure size 864x720 with 1 Axes>"
      ]
     },
     "metadata": {
      "needs_background": "light"
     },
     "output_type": "display_data"
    }
   ],
   "source": [
    "fig, ax = plt.subplots(figsize=(12,10))\n",
    "xgb.plot_importance(gbm_model, max_num_features=20, height=0.8, ax=ax)\n",
    "plt.show()"
   ]
  },
  {
   "cell_type": "code",
   "execution_count": 65,
   "metadata": {},
   "outputs": [
    {
     "data": {
      "text/plain": [
       "300"
      ]
     },
     "execution_count": 65,
     "metadata": {},
     "output_type": "execute_result"
    }
   ],
   "source": [
    "len(progress['eval']['rmse'])"
   ]
  },
  {
   "cell_type": "code",
   "execution_count": 67,
   "metadata": {},
   "outputs": [
    {
     "data": {
      "image/png": "[encoded data removed]",
      "text/plain": [
       "<Figure size 432x288 with 1 Axes>"
      ]
     },
     "metadata": {
      "needs_background": "light"
     },
     "output_type": "display_data"
    }
   ],
   "source": [
    "# make predictions for test data\n",
    "y_pred = gbm_model.predict(dvalid)\n",
    "predictions = np.round(y_pred)\n",
    "# evaluate predictions\n",
    "accuracy = mape(y_test, predictions)\n",
    "# retrieve performance metrics\n",
    "epochs = len(progress['eval']['rmse'])\n",
    "x_axis = range(0, epochs)\n",
    "# plot log loss\n",
    "fig, ax = plt.subplots()\n",
    "ax.plot(x_axis, progress['eval']['rmse'], label='Train')\n",
    "ax.plot(x_axis, progress['train']['rmse'], label='Test')\n",
    "ax.legend()\n",
    "plt.ylabel('Log Loss')\n",
    "plt.title('XGBoost Log Loss')\n",
    "plt.show()"
   ]
  }
 ],
 "metadata": {
  "kernelspec": {
   "display_name": "Python 3",
   "language": "python",
   "name": "python3"
  },
  "language_info": {
   "codemirror_mode": {
    "name": "ipython",
    "version": 3
   },
   "file_extension": ".py",
   "mimetype": "text/x-python",
   "name": "python",
   "nbconvert_exporter": "python",
   "pygments_lexer": "ipython3",
   "version": "3.7.3"
  }
 },
 "nbformat": 4,
 "nbformat_minor": 2
}
