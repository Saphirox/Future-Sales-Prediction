{
 "cells": [
  {
   "cell_type": "code",
   "execution_count": null,
   "metadata": {},
   "outputs": [],
   "source": [
    "!pip install pandas --upgrade"
   ]
  },
  {
   "cell_type": "code",
   "execution_count": null,
   "metadata": {},
   "outputs": [],
   "source": [
    "import pandas as pd"
   ]
  },
  {
   "cell_type": "code",
   "execution_count": null,
   "metadata": {},
   "outputs": [],
   "source": [
    "XY_train = pd.read_pickle(\"XY_train.pickle\")\n",
    "XY_test = pd.read_pickle(\"XY_test.pickle\")"
   ]
  },
  {
   "cell_type": "code",
   "execution_count": null,
   "metadata": {},
   "outputs": [],
   "source": [
    "def change_types(df):    \n",
    "    for col in df.columns[df.dtypes == 'int64']:\n",
    "        df[col] = df[col].astype(np.int32)\n",
    "    return df\n",
    "\n",
    "XY_train = change_types(XY_train)\n",
    "XY_test = change_types(XY_test)\n",
    "\n",
    "XY_train['is_mal'] = XY_train['is_mal'].astype(np.int8)\n",
    "XY_train['shop_id'] = XY_train['shop_id'].astype(np.int8)\n",
    "XY_train['city'] = XY_train['city'].astype(np.int8)\n",
    "XY_train['is_en_mal'] = XY_train['is_en_mal'].astype(np.int8)\n",
    "XY_train['year'] = XY_train['year'].astype(np.int8)\n",
    "XY_train['month'] = XY_train['month'].astype(np.int8)\n",
    "XY_train['date_block_num'] = XY_train['date_block_num'].astype(np.int8)"
   ]
  },
  {
   "cell_type": "code",
   "execution_count": null,
   "metadata": {},
   "outputs": [],
   "source": [
    "def lag_feature(df, lags, col):    \n",
    "    tmp = df[['date_block_num', 'shop_id','item_id', col]]\n",
    "    for i in tqdm(lags):\n",
    "        gc.collect()\n",
    "        shifted = tmp.copy()\n",
    "        shifted.columns = ['date_block_num','shop_id','item_id', col+'_lag_'+str(i)]\n",
    "        shifted['date_block_num'] = shifted['date_block_num'] + i\n",
    "        df = pd.merge(df, shifted, on=['date_block_num','shop_id','item_id'], how='left')\n",
    "    return df\n",
    "\n",
    "def mean_encoding(df, groupby_feats, target, enc, lags):\n",
    "    print('Features: ' , groupby_feats)\n",
    "    features = df[[*groupby_feats, target]]\\\n",
    "             .groupby(groupby_feats, as_index=False)\\\n",
    "             .agg(['mean'])\n",
    "   \n",
    "    features.columns = [enc]\n",
    "    \n",
    "    df = df.merge(features, on=groupby_feats, how='left')\n",
    "    df[enc] = df[enc].astype(np.float16)\n",
    "    df = lag_feature(df, lags, enc)\n",
    "    df.drop(enc, axis=1, inplace=True)\n",
    "    return df"
   ]
  },
  {
   "cell_type": "code",
   "execution_count": null,
   "metadata": {},
   "outputs": [],
   "source": [
    "import time\n",
    "ts = time.time()\n",
    "X_target_encoded = XY_train\n",
    "X_target_encoded = mean_encoding(X_target_encoded, ['date_block_num'], 'item_cnt_day', 'date_avg_item_cnt', [1])\n",
    "X_target_encoded = mean_encoding(X_target_encoded, ['date_block_num', 'item_id'], \n",
    "                                'item_cnt_day', 'date_item_avg_item_cnt', [1, 2, 3, 6])\n",
    "X_target_encoded = mean_encoding(X_target_encoded, ['date_block_num', 'shop_id'], \n",
    "                                 'item_cnt_day', 'date_shop_avg_item_cnt', [1,2,3,6])\n",
    "\n",
    "X_target_encoded = mean_encoding(X_target_encoded, ['date_block_num', 'item_category_id'], \n",
    "                                 'item_cnt_day', 'date_cat_avg_item_cnt', [1, 6])\n",
    "X_target_encoded = mean_encoding(X_target_encoded, ['date_block_num', 'shop_id', 'item_category_id'], \n",
    "                                 'item_cnt_day', 'date_shop_cat_avg_item_cnt', [1, 6])\n",
    "X_target_encoded = mean_encoding(X_target_encoded, ['date_block_num', 'item_id', 'item_category_id'], 'item_cnt_day', 'date_shop_cat_avg_item_cnt', [1, 6])\n",
    "\n",
    "X_target_encoded = mean_encoding(X_target_encoded, ['date_block_num', 'city'], 'item_cnt_day', 'date_city_avg_item_cnt', [1, 6])\n",
    "X_target_encoded = mean_encoding(X_target_encoded, ['date_block_num', 'item_id', 'city'], 'item_cnt_day', 'date_item_city_avg_item_cnt', [1, 6]) \n",
    "\n",
    "time.time() - ts"
   ]
  }
 ],
 "metadata": {
  "kernelspec": {
   "display_name": "Python 3",
   "language": "python",
   "name": "python3"
  },
  "language_info": {
   "codemirror_mode": {
    "name": "ipython",
    "version": 3
   },
   "file_extension": ".py",
   "mimetype": "text/x-python",
   "name": "python",
   "nbconvert_exporter": "python",
   "pygments_lexer": "ipython3",
   "version": "3.7.3"
  }
 },
 "nbformat": 4,
 "nbformat_minor": 2
}
