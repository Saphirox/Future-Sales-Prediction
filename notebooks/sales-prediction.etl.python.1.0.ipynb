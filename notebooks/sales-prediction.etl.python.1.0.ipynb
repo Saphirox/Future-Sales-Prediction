{
 "cells": [
  {
   "cell_type": "code",
   "execution_count": 5,
   "metadata": {},
   "outputs": [],
   "source": [
    "import pandas as pd\n",
    "import os\n",
    "import numpy as np\n",
    "data_path = \"../data\""
   ]
  },
  {
   "cell_type": "code",
   "execution_count": 4,
   "metadata": {},
   "outputs": [],
   "source": [
    "# Import all of them \n",
    "sales_train = pd.read_csv(os.path.join(data_path, \"sales_train.csv.gz\"), \\\n",
    "                          parse_dates=['date'], infer_datetime_format=True)\n",
    "\n",
    "item_cat = pd.read_csv(os.path.join(data_path, \"item_categories.csv\"))\n",
    "item = pd.read_csv(os.path.join(data_path, \"items.csv\"))\n",
    "sub = pd.read_csv(os.path.join(data_path, \"sample_submission.csv.gz\"))\n",
    "shops = pd.read_csv(os.path.join(data_path, \"shops.csv\"))\n",
    "sales_test = pd.read_csv(os.path.join(data_path, \"test.csv.gz\"))"
   ]
  },
  {
   "cell_type": "code",
   "execution_count": 5,
   "metadata": {},
   "outputs": [],
   "source": [
    "sales_train['date_block_num'] = sales_train['date_block_num'].astype('int')\n",
    "sales_train['shop_id'] = sales_train['shop_id'].astype('int')\n",
    "sales_train['item_id'] = sales_train['item_id'].astype('int')\n",
    "sales_train['item_price'] = sales_train['item_price'].astype('float32')\n",
    "sales_train['item_cnt_day'] = sales_train['item_cnt_day'].astype('float32')\n",
    "\n",
    "sales_train['date'] = pd.to_datetime(sales_train['date'], infer_datetime_format=True)"
   ]
  },
  {
   "cell_type": "code",
   "execution_count": 4,
   "metadata": {},
   "outputs": [
    {
     "ename": "NameError",
     "evalue": "name 'item_cat' is not defined",
     "output_type": "error",
     "traceback": [
      "\u001b[0;31m---------------------------------------------------------------------------\u001b[0m",
      "\u001b[0;31mNameError\u001b[0m                                 Traceback (most recent call last)",
      "\u001b[0;32m<ipython-input-4-c1797fb5ccc5>\u001b[0m in \u001b[0;36m<module>\u001b[0;34m\u001b[0m\n\u001b[0;32m----> 1\u001b[0;31m \u001b[0mitem_cat\u001b[0m\u001b[0;34m.\u001b[0m\u001b[0mto_pickle\u001b[0m\u001b[0;34m(\u001b[0m\u001b[0mos\u001b[0m\u001b[0;34m.\u001b[0m\u001b[0mpath\u001b[0m\u001b[0;34m.\u001b[0m\u001b[0mjoin\u001b[0m\u001b[0;34m(\u001b[0m\u001b[0mdata_path\u001b[0m\u001b[0;34m,\u001b[0m \u001b[0;34m'item_cat.pickle'\u001b[0m\u001b[0;34m)\u001b[0m\u001b[0;34m)\u001b[0m\u001b[0;34m\u001b[0m\u001b[0;34m\u001b[0m\u001b[0m\n\u001b[0m\u001b[1;32m      2\u001b[0m \u001b[0mitem\u001b[0m\u001b[0;34m.\u001b[0m\u001b[0mto_pickle\u001b[0m\u001b[0;34m(\u001b[0m\u001b[0mos\u001b[0m\u001b[0;34m.\u001b[0m\u001b[0mpath\u001b[0m\u001b[0;34m.\u001b[0m\u001b[0mjoin\u001b[0m\u001b[0;34m(\u001b[0m\u001b[0mdata_path\u001b[0m\u001b[0;34m,\u001b[0m \u001b[0;34m'item.pickle'\u001b[0m\u001b[0;34m)\u001b[0m\u001b[0;34m)\u001b[0m\u001b[0;34m\u001b[0m\u001b[0;34m\u001b[0m\u001b[0m\n\u001b[1;32m      3\u001b[0m \u001b[0msub\u001b[0m\u001b[0;34m.\u001b[0m\u001b[0mto_pickle\u001b[0m\u001b[0;34m(\u001b[0m\u001b[0mos\u001b[0m\u001b[0;34m.\u001b[0m\u001b[0mpath\u001b[0m\u001b[0;34m.\u001b[0m\u001b[0mjoin\u001b[0m\u001b[0;34m(\u001b[0m\u001b[0;34m'sub.pickle'\u001b[0m\u001b[0;34m)\u001b[0m\u001b[0;34m)\u001b[0m\u001b[0;34m\u001b[0m\u001b[0;34m\u001b[0m\u001b[0m\n\u001b[1;32m      4\u001b[0m \u001b[0mshops\u001b[0m\u001b[0;34m.\u001b[0m\u001b[0mto_pickle\u001b[0m\u001b[0;34m(\u001b[0m\u001b[0mos\u001b[0m\u001b[0;34m.\u001b[0m\u001b[0mpath\u001b[0m\u001b[0;34m.\u001b[0m\u001b[0mjoin\u001b[0m\u001b[0;34m(\u001b[0m\u001b[0;34m'shops.pickle'\u001b[0m\u001b[0;34m)\u001b[0m\u001b[0;34m)\u001b[0m\u001b[0;34m\u001b[0m\u001b[0;34m\u001b[0m\u001b[0m\n\u001b[1;32m      5\u001b[0m \u001b[0msales_test\u001b[0m\u001b[0;34m.\u001b[0m\u001b[0mto_pickle\u001b[0m\u001b[0;34m(\u001b[0m\u001b[0mos\u001b[0m\u001b[0;34m.\u001b[0m\u001b[0mpath\u001b[0m\u001b[0;34m.\u001b[0m\u001b[0mjoin\u001b[0m\u001b[0;34m(\u001b[0m\u001b[0;34m'sales_test.pickle'\u001b[0m\u001b[0;34m)\u001b[0m\u001b[0;34m)\u001b[0m\u001b[0;34m\u001b[0m\u001b[0;34m\u001b[0m\u001b[0m\n",
      "\u001b[0;31mNameError\u001b[0m: name 'item_cat' is not defined"
     ]
    }
   ],
   "source": [
    "item_cat.to_pickle(os.path.join(data_path, 'item_cat.pickle'))\n",
    "item.to_pickle(os.path.join(data_path, 'item.pickle'))\n",
    "sub.to_pickle(os.path.join('sub.pickle'))\n",
    "shops.to_pickle(os.path.join('shops.pickle'))\n",
    "sales_test.to_pickle(os.path.join('sales_test.pickle'))\n",
    "sales_train.to_pickle(os.path.join('sales_train.pickle'))"
   ]
  },
  {
   "cell_type": "code",
   "execution_count": 5,
   "metadata": {},
   "outputs": [],
   "source": [
    "item_cat = pd.read_pickle(os.path.join(data_path, 'item_cat.pickle'))\n",
    "item = pd.read_pickle(os.path.join(data_path, 'item.pickle'))\n",
    "sub = pd.read_pickle(os.path.join('sub.pickle'))\n",
    "shops =  pd.read_pickle(os.path.join('shops.pickle'))\n",
    "sales_test = pd.read_pickle(os.path.join('sales_test.pickle'))\n",
    "sales_train = pd.read_pickle(os.path.join('sales_train.pickle'))"
   ]
  },
  {
   "cell_type": "code",
   "execution_count": 8,
   "metadata": {},
   "outputs": [
    {
     "name": "stdout",
     "output_type": "stream",
     "text": [
      "Stored 'item_cat' (DataFrame)\n",
      "Stored 'item' (DataFrame)\n",
      "Stored 'sub' (DataFrame)\n",
      "Stored 'shops' (DataFrame)\n",
      "Stored 'sales_test' (DataFrame)\n",
      "Stored 'sales_train' (DataFrame)\n"
     ]
    }
   ],
   "source": [
    "%store item_cat\n",
    "%store item\n",
    "%store sub\n",
    "%store shops\n",
    "%store sales_test\n",
    "%store sales_train"
   ]
  },
  {
   "cell_type": "code",
   "execution_count": 7,
   "metadata": {},
   "outputs": [],
   "source": [
    "sales_test['date_block_num'] = 34\n",
    "sales_test['date_block_num'] = sales_test['date_block_num'].astype(np.int32)\n",
    "sales_test['shop_id'] = sales_test['shop_id'].astype(np.int32)\n",
    "sales_test['item_id'] = sales_test['item_id'].astype(np.int32)"
   ]
  },
  {
   "cell_type": "code",
   "execution_count": 3,
   "metadata": {},
   "outputs": [],
   "source": [
    "del item_cat\n",
    "del item\n",
    "del sub\n",
    "del shops\n",
    "del sales_test\n",
    "del sales_train"
   ]
  },
  {
   "cell_type": "code",
   "execution_count": 17,
   "metadata": {},
   "outputs": [
    {
     "name": "stdout",
     "output_type": "stream",
     "text": [
      "a\t data_path\t item\t item_cat\t os\t pd\t sales_test\t sales_train\t shops\t \n",
      "sub\t \n"
     ]
    }
   ],
   "source": []
  }
 ],
 "metadata": {
  "kernelspec": {
   "display_name": "Python 3",
   "language": "python",
   "name": "python3"
  },
  "language_info": {
   "codemirror_mode": {
    "name": "ipython",
    "version": 3
   },
   "file_extension": ".py",
   "mimetype": "text/x-python",
   "name": "python",
   "nbconvert_exporter": "python",
   "pygments_lexer": "ipython3",
   "version": "3.7.3"
  }
 },
 "nbformat": 4,
 "nbformat_minor": 2
}
