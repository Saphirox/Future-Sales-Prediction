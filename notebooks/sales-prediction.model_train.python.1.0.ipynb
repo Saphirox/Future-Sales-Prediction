{
 "cells": [
  {
   "cell_type": "markdown",
   "metadata": {
    "pycharm": {
     "name": "#%%\n"
    }
   },
   "source": [
    "# <center> Model building"
   ]
  },
  {
   "cell_type": "markdown",
   "metadata": {},
   "source": [
    "I will use following models:\n",
    "1. XGBoost\n",
    "2. LightGBM\n",
    "3. Stacking\n",
    "\n",
    "Evaluation metric: MAPE"
   ]
  },
  {
   "cell_type": "code",
   "execution_count": 1,
   "metadata": {},
   "outputs": [],
   "source": [
    "%store -r X_train_val\n",
    "%store -r X_test\n",
    "%store -r y_train_val\n",
    "%store -r y_test"
   ]
  },
  {
   "cell_type": "code",
   "execution_count": 10,
   "metadata": {},
   "outputs": [
    {
     "data": {
      "text/html": [
       "        <script type=\"text/javascript\">\n",
       "        window.PlotlyConfig = {MathJaxConfig: 'local'};\n",
       "        if (window.MathJax) {MathJax.Hub.Config({SVG: {font: \"STIX-Web\"}});}\n",
       "        if (typeof require !== 'undefined') {\n",
       "        require.undef(\"plotly\");\n",
       "        requirejs.config({\n",
       "            paths: {\n",
       "                'plotly': ['https://cdn.plot.ly/plotly-latest.min']\n",
       "            }\n",
       "        });\n",
       "        require(['plotly'], function(Plotly) {\n",
       "            window._Plotly = Plotly;\n",
       "        });\n",
       "        }\n",
       "        </script>\n",
       "        "
      ]
     },
     "metadata": {},
     "output_type": "display_data"
    }
   ],
   "source": [
    "import numpy as np\n",
    "import pandas as pd \n",
    "\n",
    "import xgboost as xgb\n",
    "from xgboost import plot_importance\n",
    "\n",
    "import warnings\n",
    "import matplotlib.pyplot as plt\n",
    "%matplotlib inline \n",
    "\n",
    "from plotly.offline import init_notebook_mode, iplot\n",
    "from plotly import graph_objs as go\n",
    "from plotly.subplots import make_subplots\n",
    "import plotly.express as px\n",
    "\n",
    "# Initialize plotly\n",
    "init_notebook_mode(connected=True)\n",
    "\n",
    "from IPython.core.debugger import set_trace\n",
    "from time import time\n",
    "\n",
    "from tqdm import tqdm\n",
    "tqdm.pandas(desc=\"\")\n",
    "warnings.filterwarnings(\"ignore\")\n",
    "import os\n",
    "\n",
    "\n",
    "# SKLEARN\n",
    "\n",
    "from sklearn.model_selection import RandomizedSearchCV, TimeSeriesSplit, KFold\n",
    "from scipy.stats import randint as sp_randint\n",
    "from sklearn.pipeline import Pipeline\n",
    "from sklearn.impute import SimpleImputer\n",
    "from sklearn.metrics import r2_score\n",
    "\n",
    "# LightGBM\n",
    "from lightgbm import LGBMRegressor\n",
    "import lightgbm as lgb\n",
    "\n",
    "# Sklearn-pandas\n",
    "from sklearn_pandas import CategoricalImputer, FunctionTransformer, DataFrameMapper\n",
    "\n",
    "# Bayessian Optimization\n",
    "from bayes_opt import BayesianOptimization\n",
    "from hyperopt import hp\n",
    "from hyperopt import fmin, tpe, space_eval\n",
    "from hyperopt import STATUS_OK, Trials, fmin, hp, tpe\n",
    "\n",
    "# vecstack\n",
    "from vecstack import stacking\n",
    "\n",
    "# Transformers\n",
    "from features_transformers import DateFeatureExtractor, TSFreshTransformer\n",
    "from split_dataset import split_dataset, split_and_transform"
   ]
  },
  {
   "cell_type": "code",
   "execution_count": 40,
   "metadata": {},
   "outputs": [],
   "source": [
    "def mape(y_test, y_predicted):\n",
    "    \"\"\"\n",
    "    Calculate MAPE of the forecast.    \n",
    "    \"\"\"\n",
    "    e = y_test - y_predicted\n",
    "    \n",
    "    p = 100 * e / y_test\n",
    "    \n",
    "    p = np.where(p == np.inf, 0, p) \n",
    "    p = np.where(p == np.nan, 0, p)\n",
    "    return np.mean(np.abs(p))"
   ]
  },
  {
   "cell_type": "markdown",
   "metadata": {},
   "source": [
    "Save model"
   ]
  },
  {
   "cell_type": "code",
   "execution_count": 38,
   "metadata": {},
   "outputs": [
    {
     "name": "stdout",
     "output_type": "stream",
     "text": [
      "[0]\teval-rmse:10.8463\ttrain-rmse:5.28762\n",
      "[1]\teval-rmse:10.8434\ttrain-rmse:5.28121\n",
      "[2]\teval-rmse:10.8406\ttrain-rmse:5.27543\n",
      "[3]\teval-rmse:10.8378\ttrain-rmse:5.26906\n",
      "[4]\teval-rmse:10.835\ttrain-rmse:5.26222\n",
      "[5]\teval-rmse:10.8323\ttrain-rmse:5.25605\n",
      "[6]\teval-rmse:10.8296\ttrain-rmse:5.24902\n",
      "[7]\teval-rmse:10.8269\ttrain-rmse:5.23968\n",
      "[8]\teval-rmse:10.8243\ttrain-rmse:5.234\n",
      "[9]\teval-rmse:10.8217\ttrain-rmse:5.22881\n",
      "[10]\teval-rmse:10.8192\ttrain-rmse:5.22408\n",
      "[11]\teval-rmse:10.8168\ttrain-rmse:5.21343\n",
      "[12]\teval-rmse:10.8144\ttrain-rmse:5.20789\n",
      "[13]\teval-rmse:10.8115\ttrain-rmse:5.20238\n",
      "[14]\teval-rmse:10.8091\ttrain-rmse:5.1978\n",
      "[15]\teval-rmse:10.8066\ttrain-rmse:5.19331\n",
      "[16]\teval-rmse:10.8044\ttrain-rmse:5.1885\n",
      "[17]\teval-rmse:10.8021\ttrain-rmse:5.18406\n",
      "[18]\teval-rmse:10.7999\ttrain-rmse:5.17952\n",
      "[19]\teval-rmse:10.7977\ttrain-rmse:5.17474\n",
      "[20]\teval-rmse:10.7953\ttrain-rmse:5.17038\n",
      "[21]\teval-rmse:10.7931\ttrain-rmse:5.16572\n",
      "[22]\teval-rmse:10.7911\ttrain-rmse:5.16178\n",
      "[23]\teval-rmse:10.7892\ttrain-rmse:5.15758\n",
      "[24]\teval-rmse:10.7869\ttrain-rmse:5.15315\n",
      "[25]\teval-rmse:10.7848\ttrain-rmse:5.14803\n",
      "[26]\teval-rmse:10.783\ttrain-rmse:5.14444\n",
      "[27]\teval-rmse:10.7806\ttrain-rmse:5.14024\n",
      "[28]\teval-rmse:10.779\ttrain-rmse:5.13652\n",
      "[29]\teval-rmse:10.7771\ttrain-rmse:5.13301\n",
      "[30]\teval-rmse:10.7754\ttrain-rmse:5.12887\n",
      "[31]\teval-rmse:10.7738\ttrain-rmse:5.12474\n",
      "[32]\teval-rmse:10.7719\ttrain-rmse:5.12124\n",
      "[33]\teval-rmse:10.7702\ttrain-rmse:5.1178\n",
      "[34]\teval-rmse:10.7686\ttrain-rmse:5.11432\n",
      "[35]\teval-rmse:10.7669\ttrain-rmse:5.11095\n",
      "[36]\teval-rmse:10.7652\ttrain-rmse:5.10741\n",
      "[37]\teval-rmse:10.7638\ttrain-rmse:5.10361\n",
      "[38]\teval-rmse:10.7617\ttrain-rmse:5.10015\n",
      "[39]\teval-rmse:10.7603\ttrain-rmse:5.09711\n",
      "[40]\teval-rmse:10.7586\ttrain-rmse:5.09337\n",
      "[41]\teval-rmse:10.7571\ttrain-rmse:5.08933\n",
      "[42]\teval-rmse:10.7558\ttrain-rmse:5.08639\n",
      "[43]\teval-rmse:10.7545\ttrain-rmse:5.08316\n",
      "[44]\teval-rmse:10.7533\ttrain-rmse:5.08043\n",
      "[45]\teval-rmse:10.7522\ttrain-rmse:5.07751\n",
      "[46]\teval-rmse:10.7508\ttrain-rmse:5.07465\n",
      "[47]\teval-rmse:10.7497\ttrain-rmse:5.07193\n",
      "[48]\teval-rmse:10.7485\ttrain-rmse:5.06945\n",
      "[49]\teval-rmse:10.7474\ttrain-rmse:5.06686\n",
      "[50]\teval-rmse:10.7467\ttrain-rmse:5.06397\n",
      "[51]\teval-rmse:10.7456\ttrain-rmse:5.06142\n",
      "[52]\teval-rmse:10.745\ttrain-rmse:5.05823\n",
      "[53]\teval-rmse:10.7441\ttrain-rmse:5.05564\n",
      "[54]\teval-rmse:10.7431\ttrain-rmse:5.05278\n",
      "[55]\teval-rmse:10.7422\ttrain-rmse:5.04982\n",
      "[56]\teval-rmse:10.741\ttrain-rmse:5.04641\n",
      "[57]\teval-rmse:10.7402\ttrain-rmse:5.04425\n",
      "[58]\teval-rmse:10.7397\ttrain-rmse:5.04188\n",
      "[59]\teval-rmse:10.7386\ttrain-rmse:5.03773\n",
      "[60]\teval-rmse:10.7383\ttrain-rmse:5.03531\n",
      "[61]\teval-rmse:10.7375\ttrain-rmse:5.03255\n",
      "[62]\teval-rmse:10.7367\ttrain-rmse:5.03035\n",
      "[63]\teval-rmse:10.7357\ttrain-rmse:5.02715\n",
      "[64]\teval-rmse:10.735\ttrain-rmse:5.02492\n",
      "[65]\teval-rmse:10.7344\ttrain-rmse:5.02248\n",
      "[66]\teval-rmse:10.7338\ttrain-rmse:5.02061\n",
      "[67]\teval-rmse:10.733\ttrain-rmse:5.0181\n",
      "[68]\teval-rmse:10.7324\ttrain-rmse:5.01606\n",
      "[69]\teval-rmse:10.7315\ttrain-rmse:5.01367\n",
      "[70]\teval-rmse:10.731\ttrain-rmse:5.0118\n",
      "[71]\teval-rmse:10.7304\ttrain-rmse:5.00935\n",
      "[72]\teval-rmse:10.7302\ttrain-rmse:5.00754\n",
      "[73]\teval-rmse:10.7297\ttrain-rmse:5.00506\n",
      "[74]\teval-rmse:10.7294\ttrain-rmse:5.00323\n",
      "[75]\teval-rmse:10.7289\ttrain-rmse:5.00097\n",
      "[76]\teval-rmse:10.7284\ttrain-rmse:4.99929\n",
      "[77]\teval-rmse:10.7279\ttrain-rmse:4.99714\n",
      "[78]\teval-rmse:10.7269\ttrain-rmse:4.99546\n",
      "[79]\teval-rmse:10.7264\ttrain-rmse:4.99319\n",
      "[80]\teval-rmse:10.7257\ttrain-rmse:4.99168\n",
      "[81]\teval-rmse:10.7248\ttrain-rmse:4.98902\n",
      "[82]\teval-rmse:10.7244\ttrain-rmse:4.98688\n",
      "[83]\teval-rmse:10.7239\ttrain-rmse:4.98523\n",
      "[84]\teval-rmse:10.7234\ttrain-rmse:4.98369\n",
      "[85]\teval-rmse:10.7231\ttrain-rmse:4.98169\n",
      "[86]\teval-rmse:10.7226\ttrain-rmse:4.97971\n",
      "[87]\teval-rmse:10.722\ttrain-rmse:4.97802\n",
      "[88]\teval-rmse:10.7215\ttrain-rmse:4.97593\n",
      "[89]\teval-rmse:10.721\ttrain-rmse:4.97439\n",
      "[90]\teval-rmse:10.7204\ttrain-rmse:4.97242\n",
      "[91]\teval-rmse:10.7201\ttrain-rmse:4.97028\n",
      "[92]\teval-rmse:10.7199\ttrain-rmse:4.96891\n",
      "[93]\teval-rmse:10.7191\ttrain-rmse:4.96756\n",
      "[94]\teval-rmse:10.7188\ttrain-rmse:4.96569\n",
      "[95]\teval-rmse:10.7186\ttrain-rmse:4.96427\n",
      "[96]\teval-rmse:10.7181\ttrain-rmse:4.9623\n",
      "[97]\teval-rmse:10.7176\ttrain-rmse:4.96099\n",
      "[98]\teval-rmse:10.7174\ttrain-rmse:4.95922\n",
      "[99]\teval-rmse:10.7171\ttrain-rmse:4.95737\n",
      "[100]\teval-rmse:10.7169\ttrain-rmse:4.95623\n",
      "[101]\teval-rmse:10.7165\ttrain-rmse:4.95504\n",
      "[102]\teval-rmse:10.7161\ttrain-rmse:4.95345\n",
      "[103]\teval-rmse:10.7159\ttrain-rmse:4.95223\n",
      "[104]\teval-rmse:10.7155\ttrain-rmse:4.95103\n",
      "[105]\teval-rmse:10.7152\ttrain-rmse:4.94944\n",
      "[106]\teval-rmse:10.7149\ttrain-rmse:4.9482\n",
      "[107]\teval-rmse:10.7145\ttrain-rmse:4.9469\n",
      "[108]\teval-rmse:10.7141\ttrain-rmse:4.94526\n",
      "[109]\teval-rmse:10.7139\ttrain-rmse:4.94415\n",
      "[110]\teval-rmse:10.7134\ttrain-rmse:4.94302\n",
      "[111]\teval-rmse:10.7132\ttrain-rmse:4.94152\n",
      "[112]\teval-rmse:10.7131\ttrain-rmse:4.94\n",
      "[113]\teval-rmse:10.713\ttrain-rmse:4.93889\n",
      "[114]\teval-rmse:10.7127\ttrain-rmse:4.93732\n",
      "[115]\teval-rmse:10.7126\ttrain-rmse:4.9363\n",
      "[116]\teval-rmse:10.7126\ttrain-rmse:4.9353\n",
      "[117]\teval-rmse:10.7122\ttrain-rmse:4.9339\n",
      "[118]\teval-rmse:10.7118\ttrain-rmse:4.93294\n",
      "[119]\teval-rmse:10.7117\ttrain-rmse:4.93191\n",
      "[120]\teval-rmse:10.7114\ttrain-rmse:4.93095\n",
      "[121]\teval-rmse:10.7111\ttrain-rmse:4.92998\n",
      "[122]\teval-rmse:10.7108\ttrain-rmse:4.92899\n",
      "[123]\teval-rmse:10.7106\ttrain-rmse:4.92767\n",
      "[124]\teval-rmse:10.7105\ttrain-rmse:4.92653\n",
      "[125]\teval-rmse:10.7103\ttrain-rmse:4.92545\n",
      "[126]\teval-rmse:10.7101\ttrain-rmse:4.92423\n",
      "[127]\teval-rmse:10.71\ttrain-rmse:4.92296\n",
      "[128]\teval-rmse:10.7097\ttrain-rmse:4.9218\n",
      "[129]\teval-rmse:10.7096\ttrain-rmse:4.92092\n",
      "[130]\teval-rmse:10.7095\ttrain-rmse:4.91979\n",
      "[131]\teval-rmse:10.7093\ttrain-rmse:4.91866\n",
      "[132]\teval-rmse:10.709\ttrain-rmse:4.91783\n",
      "[133]\teval-rmse:10.7087\ttrain-rmse:4.91694\n",
      "[134]\teval-rmse:10.7086\ttrain-rmse:4.91602\n",
      "[135]\teval-rmse:10.7083\ttrain-rmse:4.9152\n",
      "[136]\teval-rmse:10.708\ttrain-rmse:4.91409\n",
      "[137]\teval-rmse:10.7079\ttrain-rmse:4.913\n",
      "[138]\teval-rmse:10.7077\ttrain-rmse:4.91187\n",
      "[139]\teval-rmse:10.7075\ttrain-rmse:4.91087\n",
      "[140]\teval-rmse:10.7074\ttrain-rmse:4.90964\n",
      "[141]\teval-rmse:10.7072\ttrain-rmse:4.90883\n",
      "[142]\teval-rmse:10.7071\ttrain-rmse:4.90755\n",
      "[143]\teval-rmse:10.7051\ttrain-rmse:4.9063\n",
      "[144]\teval-rmse:10.705\ttrain-rmse:4.90546\n",
      "[145]\teval-rmse:10.7048\ttrain-rmse:4.90443\n",
      "[146]\teval-rmse:10.7028\ttrain-rmse:4.90321\n",
      "[147]\teval-rmse:10.7028\ttrain-rmse:4.90245\n",
      "[148]\teval-rmse:10.7025\ttrain-rmse:4.90165\n",
      "[149]\teval-rmse:10.7025\ttrain-rmse:4.90067\n",
      "[150]\teval-rmse:10.7023\ttrain-rmse:4.89994\n",
      "[151]\teval-rmse:10.7022\ttrain-rmse:4.89935\n",
      "[152]\teval-rmse:10.7008\ttrain-rmse:4.89816\n",
      "[153]\teval-rmse:10.7007\ttrain-rmse:4.89747\n",
      "[154]\teval-rmse:10.7007\ttrain-rmse:4.89654\n",
      "[155]\teval-rmse:10.7005\ttrain-rmse:4.89583\n",
      "[156]\teval-rmse:10.7004\ttrain-rmse:4.89514\n",
      "[157]\teval-rmse:10.6989\ttrain-rmse:4.89392\n",
      "[158]\teval-rmse:10.6986\ttrain-rmse:4.89325\n",
      "[159]\teval-rmse:10.6986\ttrain-rmse:4.89274\n",
      "[160]\teval-rmse:10.6987\ttrain-rmse:4.89224\n",
      "[161]\teval-rmse:10.6985\ttrain-rmse:4.89172\n",
      "[162]\teval-rmse:10.6985\ttrain-rmse:4.89112\n",
      "[163]\teval-rmse:10.6986\ttrain-rmse:4.89048\n",
      "[164]\teval-rmse:10.6983\ttrain-rmse:4.88982\n",
      "[165]\teval-rmse:10.6969\ttrain-rmse:4.88882\n",
      "[166]\teval-rmse:10.6957\ttrain-rmse:4.88701\n",
      "[167]\teval-rmse:10.6958\ttrain-rmse:4.88641\n",
      "[168]\teval-rmse:10.6958\ttrain-rmse:4.8859\n",
      "[169]\teval-rmse:10.6944\ttrain-rmse:4.88498\n",
      "[170]\teval-rmse:10.6946\ttrain-rmse:4.8843\n",
      "[171]\teval-rmse:10.6946\ttrain-rmse:4.88379\n",
      "[172]\teval-rmse:10.693\ttrain-rmse:4.88292\n",
      "[173]\teval-rmse:10.6929\ttrain-rmse:4.88218\n",
      "[174]\teval-rmse:10.6927\ttrain-rmse:4.88161\n",
      "[175]\teval-rmse:10.6913\ttrain-rmse:4.88066\n",
      "[176]\teval-rmse:10.6914\ttrain-rmse:4.88004\n",
      "[177]\teval-rmse:10.6913\ttrain-rmse:4.87933\n",
      "[178]\teval-rmse:10.691\ttrain-rmse:4.87884\n",
      "[179]\teval-rmse:10.6909\ttrain-rmse:4.87824\n",
      "[180]\teval-rmse:10.6897\ttrain-rmse:4.87741\n",
      "[181]\teval-rmse:10.6884\ttrain-rmse:4.87533\n",
      "[182]\teval-rmse:10.6883\ttrain-rmse:4.87471\n",
      "[183]\teval-rmse:10.6882\ttrain-rmse:4.87401\n",
      "[184]\teval-rmse:10.6886\ttrain-rmse:4.8733\n",
      "[185]\teval-rmse:10.6886\ttrain-rmse:4.8727\n",
      "[186]\teval-rmse:10.6885\ttrain-rmse:4.87234\n",
      "[187]\teval-rmse:10.6885\ttrain-rmse:4.87168\n",
      "[188]\teval-rmse:10.6885\ttrain-rmse:4.87097\n",
      "[189]\teval-rmse:10.689\ttrain-rmse:4.87051\n",
      "[190]\teval-rmse:10.6877\ttrain-rmse:4.86969\n",
      "[191]\teval-rmse:10.6876\ttrain-rmse:4.86904\n",
      "[192]\teval-rmse:10.6877\ttrain-rmse:4.86852\n",
      "[193]\teval-rmse:10.6877\ttrain-rmse:4.86787\n",
      "[194]\teval-rmse:10.6882\ttrain-rmse:4.86733\n"
     ]
    },
    {
     "name": "stdout",
     "output_type": "stream",
     "text": [
      "[195]\teval-rmse:10.6882\ttrain-rmse:4.86669\n",
      "[196]\teval-rmse:10.6872\ttrain-rmse:4.86514\n",
      "[197]\teval-rmse:10.6876\ttrain-rmse:4.86465\n",
      "[198]\teval-rmse:10.6875\ttrain-rmse:4.86404\n",
      "[199]\teval-rmse:10.6875\ttrain-rmse:4.86343\n",
      "[200]\teval-rmse:10.6879\ttrain-rmse:4.8629\n",
      "[201]\teval-rmse:10.6882\ttrain-rmse:4.86212\n",
      "[202]\teval-rmse:10.6882\ttrain-rmse:4.86074\n",
      "[203]\teval-rmse:10.6881\ttrain-rmse:4.8601\n",
      "[204]\teval-rmse:10.6881\ttrain-rmse:4.85953\n",
      "[205]\teval-rmse:10.6885\ttrain-rmse:4.85908\n",
      "[206]\teval-rmse:10.6884\ttrain-rmse:4.85755\n",
      "[207]\teval-rmse:10.6888\ttrain-rmse:4.85683\n",
      "[208]\teval-rmse:10.6892\ttrain-rmse:4.85644\n",
      "[209]\teval-rmse:10.6891\ttrain-rmse:4.85592\n",
      "[210]\teval-rmse:10.6894\ttrain-rmse:4.85553\n",
      "[211]\teval-rmse:10.6894\ttrain-rmse:4.85496\n",
      "[212]\teval-rmse:10.6899\ttrain-rmse:4.85457\n",
      "[213]\teval-rmse:10.6891\ttrain-rmse:4.85279\n",
      "[214]\teval-rmse:10.6894\ttrain-rmse:4.85238\n",
      "[215]\teval-rmse:10.6895\ttrain-rmse:4.85184\n",
      "[216]\teval-rmse:10.6893\ttrain-rmse:4.85042\n",
      "[217]\teval-rmse:10.6896\ttrain-rmse:4.84978\n",
      "[218]\teval-rmse:10.6896\ttrain-rmse:4.84948\n",
      "[219]\teval-rmse:10.69\ttrain-rmse:4.8491\n",
      "[220]\teval-rmse:10.6899\ttrain-rmse:4.84861\n",
      "[221]\teval-rmse:10.6905\ttrain-rmse:4.84824\n",
      "[222]\teval-rmse:10.6907\ttrain-rmse:4.84785\n",
      "[223]\teval-rmse:10.6911\ttrain-rmse:4.84746\n",
      "[224]\teval-rmse:10.6911\ttrain-rmse:4.84694\n",
      "[225]\teval-rmse:10.6908\ttrain-rmse:4.84662\n",
      "[226]\teval-rmse:10.6993\ttrain-rmse:4.84527\n",
      "[227]\teval-rmse:10.6994\ttrain-rmse:4.84501\n",
      "[228]\teval-rmse:10.6999\ttrain-rmse:4.84464\n",
      "[229]\teval-rmse:10.6999\ttrain-rmse:4.84413\n",
      "[230]\teval-rmse:10.6997\ttrain-rmse:4.84385\n",
      "[231]\teval-rmse:10.6997\ttrain-rmse:4.84332\n",
      "[232]\teval-rmse:10.7001\ttrain-rmse:4.84295\n",
      "[233]\teval-rmse:10.7005\ttrain-rmse:4.84258\n",
      "[234]\teval-rmse:10.7002\ttrain-rmse:4.84228\n",
      "[235]\teval-rmse:10.7002\ttrain-rmse:4.8418\n",
      "[236]\teval-rmse:10.7009\ttrain-rmse:4.84118\n",
      "[237]\teval-rmse:10.7013\ttrain-rmse:4.84053\n",
      "[238]\teval-rmse:10.701\ttrain-rmse:4.84007\n",
      "[239]\teval-rmse:10.7009\ttrain-rmse:4.83962\n",
      "[240]\teval-rmse:10.7006\ttrain-rmse:4.83916\n",
      "[241]\teval-rmse:10.7472\ttrain-rmse:4.83752\n",
      "[242]\teval-rmse:10.7471\ttrain-rmse:4.83728\n",
      "[243]\teval-rmse:10.7468\ttrain-rmse:4.83704\n",
      "[244]\teval-rmse:10.747\ttrain-rmse:4.83681\n",
      "[245]\teval-rmse:10.7469\ttrain-rmse:4.83637\n",
      "[246]\teval-rmse:10.7477\ttrain-rmse:4.83534\n",
      "[247]\teval-rmse:10.7481\ttrain-rmse:4.83475\n",
      "[248]\teval-rmse:10.7488\ttrain-rmse:4.83366\n",
      "[249]\teval-rmse:10.7488\ttrain-rmse:4.83322\n",
      "[250]\teval-rmse:10.7485\ttrain-rmse:4.83302\n",
      "[251]\teval-rmse:10.7485\ttrain-rmse:4.83253\n",
      "[252]\teval-rmse:10.7493\ttrain-rmse:4.83154\n",
      "[253]\teval-rmse:10.7492\ttrain-rmse:4.83121\n",
      "[254]\teval-rmse:10.7511\ttrain-rmse:4.83103\n",
      "[255]\teval-rmse:10.751\ttrain-rmse:4.8307\n",
      "[256]\teval-rmse:10.7473\ttrain-rmse:4.82982\n",
      "[257]\teval-rmse:10.7445\ttrain-rmse:4.829\n",
      "[258]\teval-rmse:10.7453\ttrain-rmse:4.82843\n",
      "[259]\teval-rmse:10.7433\ttrain-rmse:4.82763\n",
      "[260]\teval-rmse:10.7414\ttrain-rmse:4.82626\n",
      "[261]\teval-rmse:10.7418\ttrain-rmse:4.82603\n",
      "[262]\teval-rmse:10.7398\ttrain-rmse:4.82467\n",
      "[263]\teval-rmse:10.7405\ttrain-rmse:4.82372\n",
      "[264]\teval-rmse:10.7386\ttrain-rmse:4.82289\n",
      "[265]\teval-rmse:10.7369\ttrain-rmse:4.82215\n",
      "[266]\teval-rmse:10.7375\ttrain-rmse:4.82136\n",
      "[267]\teval-rmse:10.7359\ttrain-rmse:4.82012\n",
      "[268]\teval-rmse:10.7344\ttrain-rmse:4.81883\n",
      "[269]\teval-rmse:10.7347\ttrain-rmse:4.81856\n",
      "[270]\teval-rmse:10.7323\ttrain-rmse:4.81781\n",
      "[271]\teval-rmse:10.7305\ttrain-rmse:4.81706\n",
      "[272]\teval-rmse:10.7308\ttrain-rmse:4.81656\n",
      "[273]\teval-rmse:10.7293\ttrain-rmse:4.81527\n",
      "[274]\teval-rmse:10.7277\ttrain-rmse:4.81452\n",
      "[275]\teval-rmse:10.7279\ttrain-rmse:4.8141\n",
      "[276]\teval-rmse:10.7265\ttrain-rmse:4.81286\n",
      "[277]\teval-rmse:10.7265\ttrain-rmse:4.81242\n",
      "[278]\teval-rmse:10.7253\ttrain-rmse:4.81166\n",
      "[279]\teval-rmse:10.7235\ttrain-rmse:4.81097\n",
      "[280]\teval-rmse:10.7242\ttrain-rmse:4.81019\n",
      "[281]\teval-rmse:10.7237\ttrain-rmse:4.80949\n",
      "[282]\teval-rmse:10.7205\ttrain-rmse:4.80884\n",
      "[283]\teval-rmse:10.7208\ttrain-rmse:4.80818\n",
      "[284]\teval-rmse:10.7182\ttrain-rmse:4.80709\n",
      "[285]\teval-rmse:10.7173\ttrain-rmse:4.80597\n",
      "[286]\teval-rmse:10.7181\ttrain-rmse:4.80519\n",
      "[287]\teval-rmse:10.7168\ttrain-rmse:4.80413\n",
      "[288]\teval-rmse:10.7158\ttrain-rmse:4.80368\n",
      "[289]\teval-rmse:10.7157\ttrain-rmse:4.80282\n",
      "[290]\teval-rmse:10.7159\ttrain-rmse:4.80223\n",
      "[291]\teval-rmse:10.7157\ttrain-rmse:4.80189\n",
      "[292]\teval-rmse:10.7157\ttrain-rmse:4.8015\n",
      "[293]\teval-rmse:10.7136\ttrain-rmse:4.80083\n",
      "[294]\teval-rmse:10.7142\ttrain-rmse:4.80047\n",
      "[295]\teval-rmse:10.7133\ttrain-rmse:4.8002\n",
      "[296]\teval-rmse:10.7133\ttrain-rmse:4.79942\n",
      "[297]\teval-rmse:10.7132\ttrain-rmse:4.79919\n",
      "[298]\teval-rmse:10.7131\ttrain-rmse:4.7988\n",
      "[299]\teval-rmse:10.713\ttrain-rmse:4.79852\n"
     ]
    },
    {
     "data": {
      "text/plain": [
       "inf"
      ]
     },
     "execution_count": 38,
     "metadata": {},
     "output_type": "execute_result"
    }
   ],
   "source": [
    "params = {\n",
    "    'n_estimators': 300,\n",
    "    'eta': 0.01,\n",
    "    'max_depth': 4,\n",
    "    'early_stopping_rounds':30,\n",
    "    'objective': 'reg:squarederror',\n",
    "    'seed': 1\n",
    "}\n",
    "\n",
    "dtrain = xgb.DMatrix(X_train_val, label=y_train_val)\n",
    "dvalid = xgb.DMatrix(X_test, label=y_test)\n",
    "\n",
    "progress = dict()\n",
    "watchlist = [(dvalid, 'eval'), (dtrain, 'train')]\n",
    "\n",
    "num_round = int(params['n_estimators'])\n",
    "\n",
    "gbm_model = xgb.train(params, dtrain, num_round,\n",
    "                      evals=watchlist,\n",
    "                      verbose_eval=True,\n",
    "                      evals_result=progress)\n",
    "\n",
    "predictions = gbm_model.predict(dvalid)\n",
    "\n",
    "score = mape(y_test, predictions)\n",
    "score"
   ]
  },
  {
   "cell_type": "code",
   "execution_count": 52,
   "metadata": {},
   "outputs": [
    {
     "data": {
      "text/plain": [
       "-5338.0"
      ]
     },
     "execution_count": 52,
     "metadata": {},
     "output_type": "execute_result"
    }
   ],
   "source": [
    "np.sum(y_test - np.floor(predictions))"
   ]
  },
  {
   "cell_type": "code",
   "execution_count": 33,
   "metadata": {},
   "outputs": [
    {
     "name": "stdout",
     "output_type": "stream",
     "text": [
      "mape_test_score: 54.73810577392578\n",
      "r2_test_score: -36.41731700445793\n"
     ]
    }
   ],
   "source": [
    "mape_test_score = mape(gbm_model.predict(dvalid), y_test)\n",
    "r2_test_score = r2_score(gbm_model.predict(dvalid), y_test)\n",
    "\n",
    "print(f\"mape_test_score: {mape_test_score}\")\n",
    "print(f\"r2_test_score: {r2_test_score}\")"
   ]
  },
  {
   "cell_type": "code",
   "execution_count": 32,
   "metadata": {},
   "outputs": [
    {
     "name": "stdout",
     "output_type": "stream",
     "text": [
      "mape_test_score: 45.931663513183594\n",
      "r2_test_score: -8.49584083639348\n"
     ]
    }
   ],
   "source": [
    "mape_train_score = mape(gbm_model.predict(dtrain), y_train_val)\n",
    "r2_train_score = r2_score(gbm_model.predict(dtrain), y_train_val)\n",
    "\n",
    "print(f\"mape_test_score: {mape_train_score}\")\n",
    "print(f\"r2_test_score: {r2_train_score}\")"
   ]
  },
  {
   "cell_type": "code",
   "execution_count": 39,
   "metadata": {},
   "outputs": [
    {
     "data": {
      "image/png": "[encoded data removed]",
      "text/plain": [
       "<Figure size 864x720 with 1 Axes>"
      ]
     },
     "metadata": {
      "needs_background": "light"
     },
     "output_type": "display_data"
    }
   ],
   "source": [
    "fig, ax = plt.subplots(figsize=(12,10))\n",
    "xgb.plot_importance(gbm_model, max_num_features=20, height=0.8, ax=ax)\n",
    "plt.show()"
   ]
  },
  {
   "cell_type": "code",
   "execution_count": 65,
   "metadata": {},
   "outputs": [
    {
     "data": {
      "text/plain": [
       "300"
      ]
     },
     "execution_count": 65,
     "metadata": {},
     "output_type": "execute_result"
    }
   ],
   "source": [
    "len(progress['eval']['rmse'])"
   ]
  },
  {
   "cell_type": "code",
   "execution_count": 67,
   "metadata": {},
   "outputs": [
    {
     "data": {
      "image/png": "[encoded data removed]",
      "text/plain": [
       "<Figure size 432x288 with 1 Axes>"
      ]
     },
     "metadata": {
      "needs_background": "light"
     },
     "output_type": "display_data"
    }
   ],
   "source": [
    "# make predictions for test data\n",
    "y_pred = gbm_model.predict(dvalid)\n",
    "predictions = np.round(y_pred)\n",
    "# evaluate predictions\n",
    "accuracy = mape(y_test, predictions)\n",
    "# retrieve performance metrics\n",
    "epochs = len(progress['eval']['rmse'])\n",
    "x_axis = range(0, epochs)\n",
    "# plot log loss\n",
    "fig, ax = plt.subplots()\n",
    "ax.plot(x_axis, progress['eval']['rmse'], label='Train')\n",
    "ax.plot(x_axis, progress['train']['rmse'], label='Test')\n",
    "ax.legend()\n",
    "plt.ylabel('Log Loss')\n",
    "plt.title('XGBoost Log Loss')\n",
    "plt.show()"
   ]
  },
  {
   "cell_type": "code",
   "execution_count": 55,
   "metadata": {},
   "outputs": [
    {
     "name": "stdout",
     "output_type": "stream",
     "text": [
      "[10]\ttraining's rmse: 4.93542\tvalid_1's rmse: 10.7122\n",
      "[20]\ttraining's rmse: 4.81598\tvalid_1's rmse: 10.7033\n",
      "[30]\ttraining's rmse: 4.74244\tvalid_1's rmse: 10.7051\n",
      "[40]\ttraining's rmse: 4.72252\tvalid_1's rmse: 10.7034\n",
      "[50]\ttraining's rmse: 4.69817\tvalid_1's rmse: 10.7057\n",
      "[60]\ttraining's rmse: 4.67284\tvalid_1's rmse: 10.712\n",
      "[70]\ttraining's rmse: 4.65889\tvalid_1's rmse: 10.7121\n",
      "[80]\ttraining's rmse: 4.63562\tvalid_1's rmse: 10.7116\n",
      "[90]\ttraining's rmse: 4.62659\tvalid_1's rmse: 10.7173\n",
      "[100]\ttraining's rmse: 4.61926\tvalid_1's rmse: 10.7177\n",
      "[110]\ttraining's rmse: 4.6132\tvalid_1's rmse: 10.7188\n",
      "[120]\ttraining's rmse: 4.60228\tvalid_1's rmse: 10.7198\n",
      "[130]\ttraining's rmse: 4.59263\tvalid_1's rmse: 10.7156\n",
      "[140]\ttraining's rmse: 4.57917\tvalid_1's rmse: 10.7159\n",
      "[150]\ttraining's rmse: 4.561\tvalid_1's rmse: 10.7125\n",
      "[160]\ttraining's rmse: 4.55236\tvalid_1's rmse: 10.7138\n",
      "[170]\ttraining's rmse: 4.54471\tvalid_1's rmse: 10.7058\n",
      "[180]\ttraining's rmse: 4.53246\tvalid_1's rmse: 10.7079\n",
      "[190]\ttraining's rmse: 4.5167\tvalid_1's rmse: 10.7056\n",
      "[200]\ttraining's rmse: 4.51115\tvalid_1's rmse: 10.7038\n",
      "[210]\ttraining's rmse: 4.50476\tvalid_1's rmse: 10.7032\n",
      "[220]\ttraining's rmse: 4.49769\tvalid_1's rmse: 10.7007\n",
      "[230]\ttraining's rmse: 4.4939\tvalid_1's rmse: 10.7005\n",
      "[240]\ttraining's rmse: 4.48962\tvalid_1's rmse: 10.7016\n",
      "[250]\ttraining's rmse: 4.48722\tvalid_1's rmse: 10.7024\n",
      "[260]\ttraining's rmse: 4.48531\tvalid_1's rmse: 10.7017\n",
      "[270]\ttraining's rmse: 4.47669\tvalid_1's rmse: 10.7079\n",
      "[280]\ttraining's rmse: 4.47244\tvalid_1's rmse: 10.7083\n",
      "[290]\ttraining's rmse: 4.45384\tvalid_1's rmse: 10.7079\n",
      "[300]\ttraining's rmse: 4.45028\tvalid_1's rmse: 10.7086\n"
     ]
    },
    {
     "data": {
      "text/plain": [
       "LGBMRegressor(boosting_type='gbdt', class_weight=None, colsample_bytree=0.7,\n",
       "              importance_type='split', learning_rate=0.1, max_depth=4,\n",
       "              metric='rmse', min_child_samples=20, min_child_weight=300,\n",
       "              min_split_gain=0.0, n_estimators=300, n_jobs=-1, num_leaves=31,\n",
       "              objective='rmse', random_state=1, reg_alpha=1, reg_lambda=1,\n",
       "              silent=True, subsample=1.0, subsample_for_bin=200000,\n",
       "              subsample_freq=0)"
      ]
     },
     "execution_count": 55,
     "metadata": {},
     "output_type": "execute_result"
    }
   ],
   "source": [
    "cat_feats = ['shop_id', 'key', 'item_category_id', 'item_id', 'month', 'year', 'date_block_num']\n",
    "\n",
    "lgbm = LGBMRegressor(\n",
    "    boosting_type= 'gbdt',\n",
    "    objective = 'rmse',\n",
    "    metric = \"rmse\",\n",
    "    max_depth = 4,\n",
    "    n_estimators = 300,\n",
    "    colsample_bytree=0.7,\n",
    "    min_child_weight = 300,\n",
    "    reg_alpha = 1,\n",
    "    reg_lambda = 1,\n",
    "    random_state = 1,\n",
    ")\n",
    "\n",
    "lgbm.fit(\n",
    "    X_train_val, \n",
    "    y_train_val, \n",
    "    eval_metric=\"rmse\", \n",
    "    eval_set=[(X_train_val, y_train_val), (X_test, y_test)], \n",
    "    verbose=10, \n",
    "    categorical_feature = cat_feats)"
   ]
  },
  {
   "cell_type": "code",
   "execution_count": 35,
   "metadata": {},
   "outputs": [
    {
     "data": {
      "image/png": "[encoded data removed]",
      "text/plain": [
       "<Figure size 432x288 with 1 Axes>"
      ]
     },
     "metadata": {
      "needs_background": "light"
     },
     "output_type": "display_data"
    }
   ],
   "source": [
    "ax = lgb.plot_importance(lgbm, max_num_features=10)\n",
    "plt.show()"
   ]
  },
  {
   "cell_type": "code",
   "execution_count": 36,
   "metadata": {},
   "outputs": [
    {
     "data": {
      "image/png": "[encoded data removed]",
      "text/plain": [
       "<Figure size 432x288 with 1 Axes>"
      ]
     },
     "metadata": {
      "needs_background": "light"
     },
     "output_type": "display_data"
    }
   ],
   "source": [
    "ax = lgb.plot_metric(lgbm)\n",
    "plt.show()"
   ]
  },
  {
   "cell_type": "markdown",
   "metadata": {},
   "source": [
    "# <center> Ensembling"
   ]
  },
  {
   "cell_type": "code",
   "execution_count": 76,
   "metadata": {},
   "outputs": [
    {
     "name": "stdout",
     "output_type": "stream",
     "text": [
      "task:         [regression]\n",
      "metric:       [mean_absolute_error]\n",
      "mode:         [oof_pred_bag]\n",
      "n_models:     [1]\n",
      "\n",
      "model  0:     [LGBMRegressor]\n",
      "    fold  0:  [0.73905428]\n",
      "    fold  1:  [0.94454948]\n",
      "    fold  2:  [0.90556172]\n",
      "    fold  3:  [1.36783669]\n",
      "    ----\n",
      "    MEAN:     [0.98925054] + [0.23180145]\n",
      "    FULL:     [0.98925054]\n",
      "\n"
     ]
    }
   ],
   "source": [
    "import pickle\n",
    "models = [lgbm, xgb]\n",
    "s1_train, s1_test = stacking(models,\n",
    "                           pd.concat([X_train_val, ] ), y_train_val, X_test,\n",
    "                           regression=True,\n",
    "                           mode='oof_pred_bag',\n",
    "                           random_state=25,\n",
    "                           verbose=2\n",
    "                          )"
   ]
  },
  {
   "cell_type": "code",
   "execution_count": 87,
   "metadata": {},
   "outputs": [
    {
     "name": "stdout",
     "output_type": "stream",
     "text": [
      "[20:31:06] WARNING: src/objective/regression_obj.cu:152: reg:linear is now deprecated in favor of reg:squarederror.\n"
     ]
    },
    {
     "data": {
      "text/plain": [
       "XGBRegressor(base_score=0.5, booster='gbtree', colsample_bylevel=1,\n",
       "             colsample_bynode=1, colsample_bytree=1, gamma=0,\n",
       "             importance_type='gain', learning_rate=0.04, max_delta_step=0,\n",
       "             max_depth=3, min_child_weight=1, missing=None, n_estimators=900,\n",
       "             n_jobs=-1, nthread=None, objective='reg:linear', random_state=17,\n",
       "             reg_alpha=0, reg_lambda=1, scale_pos_weight=1, seed=None,\n",
       "             silent=None, subsample=1, verbosity=1)"
      ]
     },
     "execution_count": 87,
     "metadata": {},
     "output_type": "execute_result"
    }
   ],
   "source": [
    "xgb_lev2 = xgb.XGBRegressor(learning_rate=0.04, \n",
    "                        n_estimators=900,\n",
    "                        max_depth=3,\n",
    "                        n_jobs=-1,\n",
    "                        random_state=17\n",
    "                       )\n",
    "\n",
    "# Fit the 2nd level model on the output of level 1\n",
    "xgb_lev2.fit(s1_train, y_train_val)"
   ]
  },
  {
   "cell_type": "code",
   "execution_count": 88,
   "metadata": {},
   "outputs": [
    {
     "name": "stdout",
     "output_type": "stream",
     "text": [
      "Stored 'xgb_lev2' (XGBRegressor)\n"
     ]
    }
   ],
   "source": [
    "%store xgb_lev2"
   ]
  }
 ],
 "metadata": {
  "kernelspec": {
   "display_name": "Python 3",
   "language": "python",
   "name": "python3"
  },
  "language_info": {
   "codemirror_mode": {
    "name": "ipython",
    "version": 3
   },
   "file_extension": ".py",
   "mimetype": "text/x-python",
   "name": "python",
   "nbconvert_exporter": "python",
   "pygments_lexer": "ipython3",
   "version": "3.7.3"
  }
 },
 "nbformat": 4,
 "nbformat_minor": 2
}
