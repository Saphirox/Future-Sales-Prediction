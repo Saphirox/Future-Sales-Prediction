{
 "cells": [
  {
   "cell_type": "markdown",
   "metadata": {},
   "source": [
    "# <center> Data leak analysis"
   ]
  },
  {
   "cell_type": "markdown",
   "metadata": {},
   "source": [
    "## Synopsis"
   ]
  },
  {
   "cell_type": "markdown",
   "metadata": {},
   "source": [
    "Data leak analysis notebook consist of few parts:\n",
    "1. Data leaks in train set (``sales_train.csv``)\n",
    "2. Data leaks in test set (``sales_test.csv``)\n",
    "3. Data leaks in shop set (``shops.csv``). It related to problems with shop_name\n",
    "4. Data leaks in item categories (``item_categories.csv``).\n"
   ]
  },
  {
   "cell_type": "markdown",
   "metadata": {},
   "source": [
    "## Import datasets"
   ]
  },
  {
   "cell_type": "code",
   "execution_count": 16,
   "metadata": {},
   "outputs": [],
   "source": [
    "%store -r item_cat\n",
    "%store -r shops\n",
    "\n",
    "%store -r sales_test\n",
    "%store -r sales_train\n",
    "\n",
    "%store -r __ipy\n",
    "%store -r __da"
   ]
  },
  {
   "cell_type": "code",
   "execution_count": 1,
   "metadata": {},
   "outputs": [
    {
     "name": "stdout",
     "output_type": "stream",
     "text": [
      "Helper ipython script loaded\n"
     ]
    },
    {
     "data": {
      "text/html": [
       "\n",
       "<style>\n",
       "    body {\n",
       "          font-family: Helvetica, Times New Roman, sans-serif;\n",
       "    }\n",
       "    \n",
       "    h1,h2, h3,h4,h5,h6 {\n",
       "        font-family: Rockwell, Times New Roman, sans-serif;\n",
       "    }\n",
       "</style>\n"
      ],
      "text/plain": [
       "<IPython.core.display.HTML object>"
      ]
     },
     "metadata": {},
     "output_type": "display_data"
    }
   ],
   "source": [
    "__ipy"
   ]
  },
  {
   "cell_type": "code",
   "execution_count": 6,
   "metadata": {},
   "outputs": [
    {
     "name": "stderr",
     "output_type": "stream",
     "text": [
      "/Users/maksymsuprunenko/anaconda3/lib/python3.7/site-packages/tqdm/_tqdm.py:604: FutureWarning: The Panel class is removed from pandas. Accessing it from the top-level namespace will also be removed in the next version\n",
      "  from pandas import Panel\n"
     ]
    },
    {
     "data": {
      "text/html": [
       "        <script type=\"text/javascript\">\n",
       "        window.PlotlyConfig = {MathJaxConfig: 'local'};\n",
       "        if (window.MathJax) {MathJax.Hub.Config({SVG: {font: \"STIX-Web\"}});}\n",
       "        if (typeof require !== 'undefined') {\n",
       "        require.undef(\"plotly\");\n",
       "        requirejs.config({\n",
       "            paths: {\n",
       "                'plotly': ['https://cdn.plot.ly/plotly-latest.min']\n",
       "            }\n",
       "        });\n",
       "        require(['plotly'], function(Plotly) {\n",
       "            window._Plotly = Plotly;\n",
       "        });\n",
       "        }\n",
       "        </script>\n",
       "        "
      ]
     },
     "metadata": {},
     "output_type": "display_data"
    },
    {
     "name": "stdout",
     "output_type": "stream",
     "text": [
      "Basic Data Analysis tools was loaded\n"
     ]
    }
   ],
   "source": [
    "__da"
   ]
  },
  {
   "cell_type": "markdown",
   "metadata": {},
   "source": [
    "## Train dataset"
   ]
  },
  {
   "cell_type": "markdown",
   "metadata": {},
   "source": [
    "Glimpse insights from the data:\n",
    "1. Some of objects compraise of negative ``item_price`` because min function returned **-1.0** price.\n",
    "2. Some of objects compraise of negative ``item_cnt_day``. It is said that negative item count means **returned items**. ([kaggle discussion](https://www.kaggle.com/c/competitive-data-science-predict-future-sales/discussion/100695#latest-584986))\n",
    "3. Dataset **does not** consist of any of **NaN values**.\n",
    "4. There are **28** objects which are duplicates. Duplicated objects consist of same key pairs. Key consist of following columns: ``date``, ``item_id``, ``shop_id``."
   ]
  },
  {
   "cell_type": "code",
   "execution_count": 9,
   "metadata": {},
   "outputs": [
    {
     "data": {
      "text/html": [
       "<div>\n",
       "<style scoped>\n",
       "    .dataframe tbody tr th:only-of-type {\n",
       "        vertical-align: middle;\n",
       "    }\n",
       "\n",
       "    .dataframe tbody tr th {\n",
       "        vertical-align: top;\n",
       "    }\n",
       "\n",
       "    .dataframe thead th {\n",
       "        text-align: right;\n",
       "    }\n",
       "</style>\n",
       "<table border=\"1\" class=\"dataframe\">\n",
       "  <thead>\n",
       "    <tr style=\"text-align: right;\">\n",
       "      <th></th>\n",
       "      <th>date_block_num</th>\n",
       "      <th>shop_id</th>\n",
       "      <th>item_id</th>\n",
       "      <th>item_price</th>\n",
       "      <th>item_cnt_day</th>\n",
       "    </tr>\n",
       "  </thead>\n",
       "  <tbody>\n",
       "    <tr>\n",
       "      <th>count</th>\n",
       "      <td>2,935,849.00</td>\n",
       "      <td>2,935,849.00</td>\n",
       "      <td>2,935,849.00</td>\n",
       "      <td>2,935,849.00</td>\n",
       "      <td>2,935,849.00</td>\n",
       "    </tr>\n",
       "    <tr>\n",
       "      <th>mean</th>\n",
       "      <td>14.57</td>\n",
       "      <td>33.00</td>\n",
       "      <td>10,197.23</td>\n",
       "      <td>890.62</td>\n",
       "      <td>1.24</td>\n",
       "    </tr>\n",
       "    <tr>\n",
       "      <th>std</th>\n",
       "      <td>9.42</td>\n",
       "      <td>16.23</td>\n",
       "      <td>6,324.30</td>\n",
       "      <td>1,726.44</td>\n",
       "      <td>2.61</td>\n",
       "    </tr>\n",
       "    <tr>\n",
       "      <th>min</th>\n",
       "      <td>0.00</td>\n",
       "      <td>0.00</td>\n",
       "      <td>0.00</td>\n",
       "      <td>-1.00</td>\n",
       "      <td>-22.00</td>\n",
       "    </tr>\n",
       "    <tr>\n",
       "      <th>25%</th>\n",
       "      <td>7.00</td>\n",
       "      <td>22.00</td>\n",
       "      <td>4,476.00</td>\n",
       "      <td>249.00</td>\n",
       "      <td>1.00</td>\n",
       "    </tr>\n",
       "    <tr>\n",
       "      <th>50%</th>\n",
       "      <td>14.00</td>\n",
       "      <td>31.00</td>\n",
       "      <td>9,343.00</td>\n",
       "      <td>399.00</td>\n",
       "      <td>1.00</td>\n",
       "    </tr>\n",
       "    <tr>\n",
       "      <th>75%</th>\n",
       "      <td>23.00</td>\n",
       "      <td>47.00</td>\n",
       "      <td>15,684.00</td>\n",
       "      <td>999.00</td>\n",
       "      <td>1.00</td>\n",
       "    </tr>\n",
       "    <tr>\n",
       "      <th>max</th>\n",
       "      <td>33.00</td>\n",
       "      <td>59.00</td>\n",
       "      <td>22,169.00</td>\n",
       "      <td>307,980.00</td>\n",
       "      <td>2,169.00</td>\n",
       "    </tr>\n",
       "  </tbody>\n",
       "</table>\n",
       "</div>"
      ],
      "text/plain": [
       "       date_block_num      shop_id      item_id   item_price  item_cnt_day\n",
       "count    2,935,849.00 2,935,849.00 2,935,849.00 2,935,849.00  2,935,849.00\n",
       "mean            14.57        33.00    10,197.23       890.62          1.24\n",
       "std              9.42        16.23     6,324.30     1,726.44          2.61\n",
       "min              0.00         0.00         0.00        -1.00        -22.00\n",
       "25%              7.00        22.00     4,476.00       249.00          1.00\n",
       "50%             14.00        31.00     9,343.00       399.00          1.00\n",
       "75%             23.00        47.00    15,684.00       999.00          1.00\n",
       "max             33.00        59.00    22,169.00   307,980.00      2,169.00"
      ]
     },
     "execution_count": 9,
     "metadata": {},
     "output_type": "execute_result"
    }
   ],
   "source": [
    "sales_train.describe()"
   ]
  },
  {
   "cell_type": "markdown",
   "metadata": {},
   "source": [
    "Null values in dataset"
   ]
  },
  {
   "cell_type": "code",
   "execution_count": 10,
   "metadata": {},
   "outputs": [
    {
     "data": {
      "text/html": [
       "<div>\n",
       "<style scoped>\n",
       "    .dataframe tbody tr th:only-of-type {\n",
       "        vertical-align: middle;\n",
       "    }\n",
       "\n",
       "    .dataframe tbody tr th {\n",
       "        vertical-align: top;\n",
       "    }\n",
       "\n",
       "    .dataframe thead th {\n",
       "        text-align: right;\n",
       "    }\n",
       "</style>\n",
       "<table border=\"1\" class=\"dataframe\">\n",
       "  <thead>\n",
       "    <tr style=\"text-align: right;\">\n",
       "      <th></th>\n",
       "      <th>date</th>\n",
       "      <th>date_block_num</th>\n",
       "      <th>shop_id</th>\n",
       "      <th>item_id</th>\n",
       "      <th>item_price</th>\n",
       "      <th>item_cnt_day</th>\n",
       "    </tr>\n",
       "  </thead>\n",
       "  <tbody>\n",
       "    <tr>\n",
       "      <th>False</th>\n",
       "      <td>2935849</td>\n",
       "      <td>2935849</td>\n",
       "      <td>2935849</td>\n",
       "      <td>2935849</td>\n",
       "      <td>2935849</td>\n",
       "      <td>2935849</td>\n",
       "    </tr>\n",
       "  </tbody>\n",
       "</table>\n",
       "</div>"
      ],
      "text/plain": [
       "          date  date_block_num  shop_id  item_id  item_price  item_cnt_day\n",
       "False  2935849         2935849  2935849  2935849     2935849       2935849"
      ]
     },
     "execution_count": 10,
     "metadata": {},
     "output_type": "execute_result"
    }
   ],
   "source": [
    "is_null_values_in_df = sales_train.isnull().apply(lambda x: x.value_counts())\n",
    "is_null_values_in_df"
   ]
  },
  {
   "cell_type": "markdown",
   "metadata": {},
   "source": [
    "Duplicated items:"
   ]
  },
  {
   "cell_type": "code",
   "execution_count": 5,
   "metadata": {},
   "outputs": [
    {
     "data": {
      "text/plain": [
       "28"
      ]
     },
     "execution_count": 5,
     "metadata": {},
     "output_type": "execute_result"
    }
   ],
   "source": [
    "unique_items = sales_train.drop_duplicates(['date', 'item_id', 'shop_id'])\n",
    "sales_train.shape[0] - unique_items.shape[0]"
   ]
  },
  {
   "cell_type": "markdown",
   "metadata": {},
   "source": [
    "## Test dataset"
   ]
  },
  {
   "cell_type": "markdown",
   "metadata": {},
   "source": [
    "Glimpse insights from the data:\n",
    "- **Any problems were not detected.**"
   ]
  },
  {
   "cell_type": "code",
   "execution_count": 14,
   "metadata": {},
   "outputs": [
    {
     "data": {
      "text/html": [
       "<div>\n",
       "<style scoped>\n",
       "    .dataframe tbody tr th:only-of-type {\n",
       "        vertical-align: middle;\n",
       "    }\n",
       "\n",
       "    .dataframe tbody tr th {\n",
       "        vertical-align: top;\n",
       "    }\n",
       "\n",
       "    .dataframe thead th {\n",
       "        text-align: right;\n",
       "    }\n",
       "</style>\n",
       "<table border=\"1\" class=\"dataframe\">\n",
       "  <thead>\n",
       "    <tr style=\"text-align: right;\">\n",
       "      <th></th>\n",
       "      <th>date_block_num</th>\n",
       "      <th>item_price</th>\n",
       "      <th>item_cnt_day</th>\n",
       "    </tr>\n",
       "  </thead>\n",
       "  <tbody>\n",
       "    <tr>\n",
       "      <th>count</th>\n",
       "      <td>2,935,849.00</td>\n",
       "      <td>2,935,849.00</td>\n",
       "      <td>2,935,849.00</td>\n",
       "    </tr>\n",
       "    <tr>\n",
       "      <th>mean</th>\n",
       "      <td>14.57</td>\n",
       "      <td>890.62</td>\n",
       "      <td>1.24</td>\n",
       "    </tr>\n",
       "    <tr>\n",
       "      <th>std</th>\n",
       "      <td>9.42</td>\n",
       "      <td>1,726.44</td>\n",
       "      <td>2.61</td>\n",
       "    </tr>\n",
       "    <tr>\n",
       "      <th>min</th>\n",
       "      <td>0.00</td>\n",
       "      <td>-1.00</td>\n",
       "      <td>-22.00</td>\n",
       "    </tr>\n",
       "    <tr>\n",
       "      <th>25%</th>\n",
       "      <td>7.00</td>\n",
       "      <td>249.00</td>\n",
       "      <td>1.00</td>\n",
       "    </tr>\n",
       "    <tr>\n",
       "      <th>50%</th>\n",
       "      <td>14.00</td>\n",
       "      <td>399.00</td>\n",
       "      <td>1.00</td>\n",
       "    </tr>\n",
       "    <tr>\n",
       "      <th>75%</th>\n",
       "      <td>23.00</td>\n",
       "      <td>999.00</td>\n",
       "      <td>1.00</td>\n",
       "    </tr>\n",
       "    <tr>\n",
       "      <th>max</th>\n",
       "      <td>33.00</td>\n",
       "      <td>307,980.00</td>\n",
       "      <td>2,169.00</td>\n",
       "    </tr>\n",
       "  </tbody>\n",
       "</table>\n",
       "</div>"
      ],
      "text/plain": [
       "       date_block_num   item_price  item_cnt_day\n",
       "count    2,935,849.00 2,935,849.00  2,935,849.00\n",
       "mean            14.57       890.62          1.24\n",
       "std              9.42     1,726.44          2.61\n",
       "min              0.00        -1.00        -22.00\n",
       "25%              7.00       249.00          1.00\n",
       "50%             14.00       399.00          1.00\n",
       "75%             23.00       999.00          1.00\n",
       "max             33.00   307,980.00      2,169.00"
      ]
     },
     "execution_count": 14,
     "metadata": {},
     "output_type": "execute_result"
    }
   ],
   "source": [
    "sales_train[['date_block_num', 'item_price', 'item_cnt_day']].describe()"
   ]
  },
  {
   "cell_type": "markdown",
   "metadata": {},
   "source": [
    "Duplicated items was not detected:"
   ]
  },
  {
   "cell_type": "code",
   "execution_count": 15,
   "metadata": {},
   "outputs": [
    {
     "data": {
      "text/plain": [
       "0"
      ]
     },
     "execution_count": 15,
     "metadata": {},
     "output_type": "execute_result"
    }
   ],
   "source": [
    "unique_items = sales_test.drop_duplicates(['item_id', 'shop_id'])\n",
    "sales_test.shape[0] - unique_items.shape[0]"
   ]
  },
  {
   "cell_type": "markdown",
   "metadata": {},
   "source": [
    "## Shop dataset"
   ]
  },
  {
   "cell_type": "markdown",
   "metadata": {},
   "source": [
    "Glimpse insights from the data:\n",
    "- ``shop_name`` consists of two parts: city and address, except one object: ``Интернет-магазин ЧС`` - internet shop\n",
    "- ``shop_name`` contains multiple unnessesary symbols like ``(!, \", м², м)``\n",
    "- Some of objects are same but they represented as different objects because of errors with symbols. It is follows objects:\n",
    "    1. ``Жуковский ул. Чкалова 39м²``\n",
    "    2. ``Якутск ТЦ \"Центральный\"``\n",
    "    3. ``Якутск Орджоникидзе, 56``    "
   ]
  },
  {
   "cell_type": "code",
   "execution_count": 19,
   "metadata": {},
   "outputs": [
    {
     "data": {
      "text/html": [
       "<div>\n",
       "<style scoped>\n",
       "    .dataframe tbody tr th:only-of-type {\n",
       "        vertical-align: middle;\n",
       "    }\n",
       "\n",
       "    .dataframe tbody tr th {\n",
       "        vertical-align: top;\n",
       "    }\n",
       "\n",
       "    .dataframe thead th {\n",
       "        text-align: right;\n",
       "    }\n",
       "</style>\n",
       "<table border=\"1\" class=\"dataframe\">\n",
       "  <thead>\n",
       "    <tr style=\"text-align: right;\">\n",
       "      <th></th>\n",
       "      <th>shop_name</th>\n",
       "      <th>shop_id</th>\n",
       "    </tr>\n",
       "  </thead>\n",
       "  <tbody>\n",
       "    <tr>\n",
       "      <th>0</th>\n",
       "      <td>!Якутск Орджоникидзе, 56 фран</td>\n",
       "      <td>0</td>\n",
       "    </tr>\n",
       "    <tr>\n",
       "      <th>1</th>\n",
       "      <td>!Якутск ТЦ \"Центральный\" фран</td>\n",
       "      <td>1</td>\n",
       "    </tr>\n",
       "    <tr>\n",
       "      <th>2</th>\n",
       "      <td>Адыгея ТЦ \"Мега\"</td>\n",
       "      <td>2</td>\n",
       "    </tr>\n",
       "    <tr>\n",
       "      <th>3</th>\n",
       "      <td>Балашиха ТРК \"Октябрь-Киномир\"</td>\n",
       "      <td>3</td>\n",
       "    </tr>\n",
       "    <tr>\n",
       "      <th>4</th>\n",
       "      <td>Волжский ТЦ \"Волга Молл\"</td>\n",
       "      <td>4</td>\n",
       "    </tr>\n",
       "    <tr>\n",
       "      <th>5</th>\n",
       "      <td>Вологда ТРЦ \"Мармелад\"</td>\n",
       "      <td>5</td>\n",
       "    </tr>\n",
       "    <tr>\n",
       "      <th>6</th>\n",
       "      <td>Воронеж (Плехановская, 13)</td>\n",
       "      <td>6</td>\n",
       "    </tr>\n",
       "    <tr>\n",
       "      <th>7</th>\n",
       "      <td>Воронеж ТРЦ \"Максимир\"</td>\n",
       "      <td>7</td>\n",
       "    </tr>\n",
       "    <tr>\n",
       "      <th>8</th>\n",
       "      <td>Воронеж ТРЦ Сити-Парк \"Град\"</td>\n",
       "      <td>8</td>\n",
       "    </tr>\n",
       "    <tr>\n",
       "      <th>9</th>\n",
       "      <td>Выездная Торговля</td>\n",
       "      <td>9</td>\n",
       "    </tr>\n",
       "    <tr>\n",
       "      <th>10</th>\n",
       "      <td>Жуковский ул. Чкалова 39м?</td>\n",
       "      <td>10</td>\n",
       "    </tr>\n",
       "    <tr>\n",
       "      <th>11</th>\n",
       "      <td>Жуковский ул. Чкалова 39м²</td>\n",
       "      <td>11</td>\n",
       "    </tr>\n",
       "    <tr>\n",
       "      <th>12</th>\n",
       "      <td>Интернет-магазин ЧС</td>\n",
       "      <td>12</td>\n",
       "    </tr>\n",
       "    <tr>\n",
       "      <th>13</th>\n",
       "      <td>Казань ТЦ \"Бехетле\"</td>\n",
       "      <td>13</td>\n",
       "    </tr>\n",
       "    <tr>\n",
       "      <th>14</th>\n",
       "      <td>Казань ТЦ \"ПаркХаус\" II</td>\n",
       "      <td>14</td>\n",
       "    </tr>\n",
       "    <tr>\n",
       "      <th>15</th>\n",
       "      <td>Калуга ТРЦ \"XXI век\"</td>\n",
       "      <td>15</td>\n",
       "    </tr>\n",
       "    <tr>\n",
       "      <th>16</th>\n",
       "      <td>Коломна ТЦ \"Рио\"</td>\n",
       "      <td>16</td>\n",
       "    </tr>\n",
       "    <tr>\n",
       "      <th>17</th>\n",
       "      <td>Красноярск ТЦ \"Взлетка Плаза\"</td>\n",
       "      <td>17</td>\n",
       "    </tr>\n",
       "    <tr>\n",
       "      <th>18</th>\n",
       "      <td>Красноярск ТЦ \"Июнь\"</td>\n",
       "      <td>18</td>\n",
       "    </tr>\n",
       "    <tr>\n",
       "      <th>19</th>\n",
       "      <td>Курск ТЦ \"Пушкинский\"</td>\n",
       "      <td>19</td>\n",
       "    </tr>\n",
       "    <tr>\n",
       "      <th>20</th>\n",
       "      <td>Москва \"Распродажа\"</td>\n",
       "      <td>20</td>\n",
       "    </tr>\n",
       "    <tr>\n",
       "      <th>21</th>\n",
       "      <td>Москва МТРЦ \"Афи Молл\"</td>\n",
       "      <td>21</td>\n",
       "    </tr>\n",
       "    <tr>\n",
       "      <th>22</th>\n",
       "      <td>Москва Магазин С21</td>\n",
       "      <td>22</td>\n",
       "    </tr>\n",
       "    <tr>\n",
       "      <th>23</th>\n",
       "      <td>Москва ТК \"Буденовский\" (пав.А2)</td>\n",
       "      <td>23</td>\n",
       "    </tr>\n",
       "    <tr>\n",
       "      <th>24</th>\n",
       "      <td>Москва ТК \"Буденовский\" (пав.К7)</td>\n",
       "      <td>24</td>\n",
       "    </tr>\n",
       "    <tr>\n",
       "      <th>25</th>\n",
       "      <td>Москва ТРК \"Атриум\"</td>\n",
       "      <td>25</td>\n",
       "    </tr>\n",
       "    <tr>\n",
       "      <th>26</th>\n",
       "      <td>Москва ТЦ \"Ареал\" (Беляево)</td>\n",
       "      <td>26</td>\n",
       "    </tr>\n",
       "    <tr>\n",
       "      <th>27</th>\n",
       "      <td>Москва ТЦ \"МЕГА Белая Дача II\"</td>\n",
       "      <td>27</td>\n",
       "    </tr>\n",
       "    <tr>\n",
       "      <th>28</th>\n",
       "      <td>Москва ТЦ \"МЕГА Теплый Стан\" II</td>\n",
       "      <td>28</td>\n",
       "    </tr>\n",
       "    <tr>\n",
       "      <th>29</th>\n",
       "      <td>Москва ТЦ \"Новый век\" (Новокосино)</td>\n",
       "      <td>29</td>\n",
       "    </tr>\n",
       "    <tr>\n",
       "      <th>30</th>\n",
       "      <td>Москва ТЦ \"Перловский\"</td>\n",
       "      <td>30</td>\n",
       "    </tr>\n",
       "    <tr>\n",
       "      <th>31</th>\n",
       "      <td>Москва ТЦ \"Семеновский\"</td>\n",
       "      <td>31</td>\n",
       "    </tr>\n",
       "    <tr>\n",
       "      <th>32</th>\n",
       "      <td>Москва ТЦ \"Серебряный Дом\"</td>\n",
       "      <td>32</td>\n",
       "    </tr>\n",
       "    <tr>\n",
       "      <th>33</th>\n",
       "      <td>Мытищи ТРК \"XL-3\"</td>\n",
       "      <td>33</td>\n",
       "    </tr>\n",
       "    <tr>\n",
       "      <th>34</th>\n",
       "      <td>Н.Новгород ТРЦ \"РИО\"</td>\n",
       "      <td>34</td>\n",
       "    </tr>\n",
       "    <tr>\n",
       "      <th>35</th>\n",
       "      <td>Н.Новгород ТРЦ \"Фантастика\"</td>\n",
       "      <td>35</td>\n",
       "    </tr>\n",
       "    <tr>\n",
       "      <th>36</th>\n",
       "      <td>Новосибирск ТРЦ \"Галерея Новосибирск\"</td>\n",
       "      <td>36</td>\n",
       "    </tr>\n",
       "    <tr>\n",
       "      <th>37</th>\n",
       "      <td>Новосибирск ТЦ \"Мега\"</td>\n",
       "      <td>37</td>\n",
       "    </tr>\n",
       "    <tr>\n",
       "      <th>38</th>\n",
       "      <td>Омск ТЦ \"Мега\"</td>\n",
       "      <td>38</td>\n",
       "    </tr>\n",
       "    <tr>\n",
       "      <th>39</th>\n",
       "      <td>РостовНаДону ТРК \"Мегацентр Горизонт\"</td>\n",
       "      <td>39</td>\n",
       "    </tr>\n",
       "    <tr>\n",
       "      <th>40</th>\n",
       "      <td>РостовНаДону ТРК \"Мегацентр Горизонт\" Островной</td>\n",
       "      <td>40</td>\n",
       "    </tr>\n",
       "    <tr>\n",
       "      <th>41</th>\n",
       "      <td>РостовНаДону ТЦ \"Мега\"</td>\n",
       "      <td>41</td>\n",
       "    </tr>\n",
       "    <tr>\n",
       "      <th>42</th>\n",
       "      <td>СПб ТК \"Невский Центр\"</td>\n",
       "      <td>42</td>\n",
       "    </tr>\n",
       "    <tr>\n",
       "      <th>43</th>\n",
       "      <td>СПб ТК \"Сенная\"</td>\n",
       "      <td>43</td>\n",
       "    </tr>\n",
       "    <tr>\n",
       "      <th>44</th>\n",
       "      <td>Самара ТЦ \"Мелодия\"</td>\n",
       "      <td>44</td>\n",
       "    </tr>\n",
       "    <tr>\n",
       "      <th>45</th>\n",
       "      <td>Самара ТЦ \"ПаркХаус\"</td>\n",
       "      <td>45</td>\n",
       "    </tr>\n",
       "    <tr>\n",
       "      <th>46</th>\n",
       "      <td>Сергиев Посад ТЦ \"7Я\"</td>\n",
       "      <td>46</td>\n",
       "    </tr>\n",
       "    <tr>\n",
       "      <th>47</th>\n",
       "      <td>Сургут ТРЦ \"Сити Молл\"</td>\n",
       "      <td>47</td>\n",
       "    </tr>\n",
       "    <tr>\n",
       "      <th>48</th>\n",
       "      <td>Томск ТРЦ \"Изумрудный Город\"</td>\n",
       "      <td>48</td>\n",
       "    </tr>\n",
       "    <tr>\n",
       "      <th>49</th>\n",
       "      <td>Тюмень ТРЦ \"Кристалл\"</td>\n",
       "      <td>49</td>\n",
       "    </tr>\n",
       "    <tr>\n",
       "      <th>50</th>\n",
       "      <td>Тюмень ТЦ \"Гудвин\"</td>\n",
       "      <td>50</td>\n",
       "    </tr>\n",
       "    <tr>\n",
       "      <th>51</th>\n",
       "      <td>Тюмень ТЦ \"Зеленый Берег\"</td>\n",
       "      <td>51</td>\n",
       "    </tr>\n",
       "    <tr>\n",
       "      <th>52</th>\n",
       "      <td>Уфа ТК \"Центральный\"</td>\n",
       "      <td>52</td>\n",
       "    </tr>\n",
       "    <tr>\n",
       "      <th>53</th>\n",
       "      <td>Уфа ТЦ \"Семья\" 2</td>\n",
       "      <td>53</td>\n",
       "    </tr>\n",
       "    <tr>\n",
       "      <th>54</th>\n",
       "      <td>Химки ТЦ \"Мега\"</td>\n",
       "      <td>54</td>\n",
       "    </tr>\n",
       "    <tr>\n",
       "      <th>55</th>\n",
       "      <td>Цифровой склад 1С-Онлайн</td>\n",
       "      <td>55</td>\n",
       "    </tr>\n",
       "    <tr>\n",
       "      <th>56</th>\n",
       "      <td>Чехов ТРЦ \"Карнавал\"</td>\n",
       "      <td>56</td>\n",
       "    </tr>\n",
       "    <tr>\n",
       "      <th>57</th>\n",
       "      <td>Якутск Орджоникидзе, 56</td>\n",
       "      <td>57</td>\n",
       "    </tr>\n",
       "    <tr>\n",
       "      <th>58</th>\n",
       "      <td>Якутск ТЦ \"Центральный\"</td>\n",
       "      <td>58</td>\n",
       "    </tr>\n",
       "    <tr>\n",
       "      <th>59</th>\n",
       "      <td>Ярославль ТЦ \"Альтаир\"</td>\n",
       "      <td>59</td>\n",
       "    </tr>\n",
       "  </tbody>\n",
       "</table>\n",
       "</div>"
      ],
      "text/plain": [
       "                                          shop_name  shop_id\n",
       "0                     !Якутск Орджоникидзе, 56 фран        0\n",
       "1                     !Якутск ТЦ \"Центральный\" фран        1\n",
       "2                                  Адыгея ТЦ \"Мега\"        2\n",
       "3                    Балашиха ТРК \"Октябрь-Киномир\"        3\n",
       "4                          Волжский ТЦ \"Волга Молл\"        4\n",
       "5                            Вологда ТРЦ \"Мармелад\"        5\n",
       "6                        Воронеж (Плехановская, 13)        6\n",
       "7                            Воронеж ТРЦ \"Максимир\"        7\n",
       "8                      Воронеж ТРЦ Сити-Парк \"Град\"        8\n",
       "9                                 Выездная Торговля        9\n",
       "10                       Жуковский ул. Чкалова 39м?       10\n",
       "11                       Жуковский ул. Чкалова 39м²       11\n",
       "12                              Интернет-магазин ЧС       12\n",
       "13                              Казань ТЦ \"Бехетле\"       13\n",
       "14                          Казань ТЦ \"ПаркХаус\" II       14\n",
       "15                             Калуга ТРЦ \"XXI век\"       15\n",
       "16                                 Коломна ТЦ \"Рио\"       16\n",
       "17                    Красноярск ТЦ \"Взлетка Плаза\"       17\n",
       "18                             Красноярск ТЦ \"Июнь\"       18\n",
       "19                            Курск ТЦ \"Пушкинский\"       19\n",
       "20                              Москва \"Распродажа\"       20\n",
       "21                           Москва МТРЦ \"Афи Молл\"       21\n",
       "22                               Москва Магазин С21       22\n",
       "23                 Москва ТК \"Буденовский\" (пав.А2)       23\n",
       "24                 Москва ТК \"Буденовский\" (пав.К7)       24\n",
       "25                              Москва ТРК \"Атриум\"       25\n",
       "26                      Москва ТЦ \"Ареал\" (Беляево)       26\n",
       "27                   Москва ТЦ \"МЕГА Белая Дача II\"       27\n",
       "28                  Москва ТЦ \"МЕГА Теплый Стан\" II       28\n",
       "29               Москва ТЦ \"Новый век\" (Новокосино)       29\n",
       "30                           Москва ТЦ \"Перловский\"       30\n",
       "31                          Москва ТЦ \"Семеновский\"       31\n",
       "32                       Москва ТЦ \"Серебряный Дом\"       32\n",
       "33                                Мытищи ТРК \"XL-3\"       33\n",
       "34                             Н.Новгород ТРЦ \"РИО\"       34\n",
       "35                      Н.Новгород ТРЦ \"Фантастика\"       35\n",
       "36            Новосибирск ТРЦ \"Галерея Новосибирск\"       36\n",
       "37                            Новосибирск ТЦ \"Мега\"       37\n",
       "38                                   Омск ТЦ \"Мега\"       38\n",
       "39            РостовНаДону ТРК \"Мегацентр Горизонт\"       39\n",
       "40  РостовНаДону ТРК \"Мегацентр Горизонт\" Островной       40\n",
       "41                           РостовНаДону ТЦ \"Мега\"       41\n",
       "42                           СПб ТК \"Невский Центр\"       42\n",
       "43                                  СПб ТК \"Сенная\"       43\n",
       "44                              Самара ТЦ \"Мелодия\"       44\n",
       "45                             Самара ТЦ \"ПаркХаус\"       45\n",
       "46                            Сергиев Посад ТЦ \"7Я\"       46\n",
       "47                           Сургут ТРЦ \"Сити Молл\"       47\n",
       "48                     Томск ТРЦ \"Изумрудный Город\"       48\n",
       "49                            Тюмень ТРЦ \"Кристалл\"       49\n",
       "50                               Тюмень ТЦ \"Гудвин\"       50\n",
       "51                        Тюмень ТЦ \"Зеленый Берег\"       51\n",
       "52                             Уфа ТК \"Центральный\"       52\n",
       "53                                 Уфа ТЦ \"Семья\" 2       53\n",
       "54                                  Химки ТЦ \"Мега\"       54\n",
       "55                         Цифровой склад 1С-Онлайн       55\n",
       "56                             Чехов ТРЦ \"Карнавал\"       56\n",
       "57                          Якутск Орджоникидзе, 56       57\n",
       "58                          Якутск ТЦ \"Центральный\"       58\n",
       "59                           Ярославль ТЦ \"Альтаир\"       59"
      ]
     },
     "execution_count": 19,
     "metadata": {},
     "output_type": "execute_result"
    }
   ],
   "source": [
    "shops"
   ]
  },
  {
   "cell_type": "markdown",
   "metadata": {},
   "source": [
    "All ``shop_id`` are unique."
   ]
  },
  {
   "cell_type": "code",
   "execution_count": 33,
   "metadata": {},
   "outputs": [
    {
     "data": {
      "text/plain": [
       "0"
      ]
     },
     "execution_count": 33,
     "metadata": {},
     "output_type": "execute_result"
    }
   ],
   "source": [
    "shops['shop_id'].nunique()  - shops['shop_id'].shape[0]"
   ]
  },
  {
   "cell_type": "markdown",
   "metadata": {},
   "source": [
    "## Item category"
   ]
  },
  {
   "cell_type": "markdown",
   "metadata": {},
   "source": [
    "Glimpse insights from the data:\n",
    "- **Any problems were not detected.**"
   ]
  },
  {
   "cell_type": "markdown",
   "metadata": {},
   "source": [
    "All ``item_category_id`` are unique."
   ]
  },
  {
   "cell_type": "code",
   "execution_count": 32,
   "metadata": {},
   "outputs": [
    {
     "data": {
      "text/plain": [
       "0"
      ]
     },
     "execution_count": 32,
     "metadata": {},
     "output_type": "execute_result"
    }
   ],
   "source": [
    "item_cat['item_category_id'].nunique() - item_cat['item_category_id'].shape[0]"
   ]
  },
  {
   "cell_type": "markdown",
   "metadata": {},
   "source": [
    "## Item"
   ]
  },
  {
   "cell_type": "markdown",
   "metadata": {},
   "source": [
    "Glimpse insights from the data:\n",
    "- **Any problems were not detected.**"
   ]
  },
  {
   "cell_type": "markdown",
   "metadata": {},
   "source": [
    "All `item_id` are unique."
   ]
  },
  {
   "cell_type": "code",
   "execution_count": 3,
   "metadata": {},
   "outputs": [
    {
     "data": {
      "text/plain": [
       "0"
      ]
     },
     "execution_count": 3,
     "metadata": {},
     "output_type": "execute_result"
    }
   ],
   "source": [
    "item['item_id'].nunique() - item['item_id'].shape[0]"
   ]
  }
 ],
 "metadata": {
  "kernelspec": {
   "display_name": "Python 3",
   "language": "python",
   "name": "python3"
  },
  "language_info": {
   "codemirror_mode": {
    "name": "ipython",
    "version": 3
   },
   "file_extension": ".py",
   "mimetype": "text/x-python",
   "name": "python",
   "nbconvert_exporter": "python",
   "pygments_lexer": "ipython3",
   "version": "3.7.3"
  }
 },
 "nbformat": 4,
 "nbformat_minor": 2
}
